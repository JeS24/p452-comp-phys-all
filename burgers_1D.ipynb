{
  "cells": [
    {
      "cell_type": "markdown",
      "metadata": {
        "colab_type": "text",
        "id": "LlKc-oLd7SIo"
      },
      "source": [
        "## Solving Bateman-Burgers Equation with K-T Scheme"
      ]
    },
    {
      "cell_type": "code",
      "execution_count": 7,
      "metadata": {
        "colab": {},
        "colab_type": "code",
        "id": "ybJXEqtCVkqW"
      },
      "outputs": [],
      "source": [
        "from numpy import pi, sin, abs, min, max\n",
        "import matplotlib.pyplot as plt\n",
        "from matplotlib import animation\n",
        "\n",
        "from kurganov_tadmor import *"
      ]
    },
    {
      "cell_type": "markdown",
      "metadata": {
        "colab_type": "text",
        "id": "44Gh42CV-gbT"
      },
      "source": [
        "### The Burgers equation"
      ]
    },
    {
      "cell_type": "markdown",
      "metadata": {
        "colab_type": "text",
        "id": "H7GKhggL7-ty"
      },
      "source": [
        "We solve the inviscid Burgers' equation on the domain\n",
        "$$ \\partial_t u + \\partial_x \\left( \\frac{u^2}{2}\\right) = 0, $$\n",
        "\n",
        "on the domain $(x,t)\\in([0,2\\pi]\\times[0,10])$ with initial data\n",
        "$$ u(x,0) = \\sin x + \\frac{1}{2} \\sin\\left(\\frac{x}{2}\\right)\\,. $$\n",
        "\n",
        "and periodic boundary conditions. The solution is computed using 400 cells and CFL number is taken as 0.75 (Time-marching).\n"
      ]
    },
    {
      "cell_type": "code",
      "execution_count": 23,
      "metadata": {
        "colab": {},
        "colab_type": "code",
        "id": "xB4D4zMHWhgA"
      },
      "outputs": [],
      "source": [
        "pars = Pars1d(\n",
        "    x_init=0.0,\n",
        "    x_final=2.0 * pi,\n",
        "    t_final=10,\n",
        "    dt_out=0.1,\n",
        "    J=400,\n",
        "    cfl=0.75,\n",
        "    scheme=\"sd3\")"
      ]
    },
    {
      "cell_type": "code",
      "execution_count": 24,
      "metadata": {
        "colab": {},
        "colab_type": "code",
        "id": "k7NoA6EfWnHa"
      },
      "outputs": [],
      "source": [
        "class Burgers1d(Equation1d):\n",
        "    def initial_data(self):\n",
        "        x = self.x\n",
        "        return sin(x) + 0.5 * sin(0.5 * x)\n",
        "\n",
        "    def boundary_conditions(self, u):\n",
        "        u[0] = u[-4]\n",
        "        u[1] = u[-3]\n",
        "        u[-2] = u[2]\n",
        "        u[-1] = u[3]\n",
        "\n",
        "    def flux_x(self, u):\n",
        "        return 0.5 * u**2\n",
        "\n",
        "    def spectral_radius_x(self, u):\n",
        "        return abs(u)"
      ]
    },
    {
      "cell_type": "markdown",
      "metadata": {
        "colab_type": "text",
        "id": "COLMjK-k-oQ_"
      },
      "source": [
        "### Solve the equation"
      ]
    },
    {
      "cell_type": "code",
      "execution_count": 25,
      "metadata": {
        "colab": {},
        "colab_type": "code",
        "id": "H7vVmXrjVru-"
      },
      "outputs": [],
      "source": [
        "eqn = Burgers1d(pars)\n",
        "soln = Solver1d(eqn)\n",
        "soln.solve()"
      ]
    },
    {
      "cell_type": "code",
      "execution_count": 28,
      "metadata": {},
      "outputs": [
        {
          "data": {
            "text/plain": [
              "dict_keys(['x_init', 'x_final', 't_final', 'dt_out', 'J', 'cfl', 'scheme', 'Nt', 'x', 'dx', 'odd', 'dt', 'step', 'flux_x', 'boundary_conditions', 'spectral_radius_x', 'u', 'u_n'])"
            ]
          },
          "execution_count": 28,
          "metadata": {},
          "output_type": "execute_result"
        }
      ],
      "source": [
        "soln.__dict__.keys()"
      ]
    },
    {
      "cell_type": "markdown",
      "metadata": {
        "colab_type": "text",
        "id": "I1ahu9i_-Vs4"
      },
      "source": [
        "### Animate the solution"
      ]
    },
    {
      "cell_type": "code",
      "execution_count": 22,
      "metadata": {
        "colab": {
          "base_uri": "https://localhost:8080/",
          "height": 310
        },
        "colab_type": "code",
        "id": "FIRRJ2kgWrIU",
        "outputId": "581917de-4a5c-4753-e9b7-82e8aaeb06ac"
      },
      "outputs": [],
      "source": [
        "j0 = slice(2, -2)\n",
        "\n",
        "fig = plt.figure()\n",
        "ax = plt.axes(xlim=(soln.x_init,soln.x_final), ylim=(min(soln.u_n), max(soln.u_n)*1.1))\n",
        "\n",
        "line_u, = ax.plot([], [], linewidth=1, marker='o', markersize=2)\n",
        "ax.set_xlabel('x')\n",
        "ax.set_ylabel('u')\n",
        "plt.legend([\"burgers\"], loc=3, frameon=False)\n",
        "\n",
        "def init():\n",
        "    line_u.set_data([], [])\n",
        "\n",
        "def animate(i):\n",
        "    line_u.set_data(soln.x[j0], soln.u_n[i,j0])\n",
        "    \n",
        "plt.close()\n",
        "anim = animation.FuncAnimation(fig, animate, init_func=init, frames=soln.Nt, interval=100, blit=False);\n",
        "anim.save('results/burgers.mp4')"
      ]
    },
    {
      "cell_type": "code",
      "execution_count": null,
      "metadata": {},
      "outputs": [],
      "source": []
    }
  ],
  "metadata": {
    "colab": {
      "collapsed_sections": [
        "8jIVJ12U-P6m"
      ],
      "include_colab_link": true,
      "name": "Burgers_1d.ipynb",
      "provenance": []
    },
    "kernelspec": {
      "display_name": "Python 3",
      "name": "python3"
    },
    "language_info": {
      "codemirror_mode": {
        "name": "ipython",
        "version": 3
      },
      "file_extension": ".py",
      "mimetype": "text/x-python",
      "name": "python",
      "nbconvert_exporter": "python",
      "pygments_lexer": "ipython3",
      "version": "3.9.5"
    }
  },
  "nbformat": 4,
  "nbformat_minor": 0
}
