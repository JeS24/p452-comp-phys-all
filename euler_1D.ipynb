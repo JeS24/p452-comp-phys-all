{
  "cells": [
    {
      "cell_type": "markdown",
      "metadata": {
        "colab_type": "text",
        "id": "LlKc-oLd7SIo"
      },
      "source": [
        "## Solving Euler Equations with K-T Scheme"
      ]
    },
    {
      "cell_type": "code",
      "execution_count": 1,
      "metadata": {
        "colab": {},
        "colab_type": "code",
        "id": "ybJXEqtCVkqW"
      },
      "outputs": [],
      "source": [
        "import numpy as np\n",
        "import matplotlib.pyplot as plt\n",
        "\n",
        "from matplotlib import animation\n",
        "from kurganov_tadmor import *"
      ]
    },
    {
      "cell_type": "markdown",
      "metadata": {
        "colab_type": "text",
        "id": "44Gh42CV-gbT"
      },
      "source": [
        "### Equation"
      ]
    },
    {
      "cell_type": "markdown",
      "metadata": {
        "colab_type": "text",
        "id": "H7GKhggL7-ty"
      },
      "source": [
        "We solve the Euler equations in 1D \n",
        "\n",
        "$$\n",
        "\\begin{equation} \n",
        "\\partial_t \n",
        "\\begin{bmatrix} \\rho \\\\ \\rho v \\\\ E \\end{bmatrix} \n",
        "+ \n",
        "\\partial_x \n",
        "\\begin{bmatrix} \\rho v \\\\ \\rho v^2 +p \\\\ v (E+p) \\end{bmatrix} \n",
        "= 0 \n",
        "\\end{equation}\n",
        "$$\n",
        "\n",
        "with the equation of state\n",
        "$$\n",
        "\\begin{equation}\n",
        "p = (\\gamma-1) \\left(E-\\frac{1}{2} \\rho v^2\\right), \\qquad \\gamma=1.4\n",
        "\\end{equation}\n",
        "$$\n",
        "\n",
        "on the domain $(x,t)\\in([0,1]\\times[0,0.1])$ with initial data for a *Sod shock tube*:\n",
        "\n",
        "$$\n",
        "\\begin{equation}\n",
        "(\\rho, v, p)_{t=0} = \n",
        "\\begin{cases}\n",
        "(1,0,1) & \\text{if} & 0<x\\leq0.5 \\\\\n",
        "(0.125, 0, 0.1) & \\text{if} & 0.5<x<1\n",
        "\\end{cases}\n",
        "\\end{equation}\n",
        "$$\n",
        "and Dirichlet boundary data set by initial data on each boundary. The solution is computed using 400 cells and CFL number is taken to be 0.75."
      ]
    },
    {
      "cell_type": "code",
      "execution_count": 2,
      "metadata": {
        "colab": {},
        "colab_type": "code",
        "id": "xB4D4zMHWhgA"
      },
      "outputs": [],
      "source": [
        "pars = Pars1d(x_init=0.0, x_final=1.0, t_final=0.3, dt_out=0.005, J=400, cfl=0.75, scheme=\"sd2\")\n",
        "pars.gamma = 1.4"
      ]
    },
    {
      "cell_type": "code",
      "execution_count": 3,
      "metadata": {
        "colab": {},
        "colab_type": "code",
        "id": "k7NoA6EfWnHa"
      },
      "outputs": [],
      "source": [
        "# Euler equation\n",
        "class Euler1d(Equation1d):\n",
        "    def initial_data(self):\n",
        "        u = np.zeros((self.J + 4, 3))\n",
        "        midpoint = int(self.J / 2) + 2\n",
        "\n",
        "        left_v = [1, 0, 1.0 / (self.gamma - 1.0)]\n",
        "        right_v = [0.125, 0.0, 0.1 / (self.gamma - 1.0)]\n",
        "\n",
        "        # Left side\n",
        "        u[:midpoint, :] = left_v\n",
        "        # Right side\n",
        "        u[midpoint:, :] = right_v\n",
        "\n",
        "        return u\n",
        "\n",
        "    def boundary_conditions(self, u):\n",
        "        left_v = [1, 0, 1.0 / (self.gamma - 1.0)]\n",
        "        right_v = [0.125, 0.0, 0.1 / (self.gamma - 1.0)]\n",
        "        # Left side\n",
        "        u[0] = left_v\n",
        "        u[1] = left_v\n",
        "        # Right side\n",
        "        u[-1] = right_v\n",
        "        u[-2] = right_v\n",
        "\n",
        "    def flux_x(self, u):\n",
        "        f = np.zeros_like(u)\n",
        "        rho = u[:, 0]\n",
        "        u_x = u[:, 1] / rho\n",
        "        E = u[:, 2]\n",
        "        p = (self.gamma - 1.0) * (E - 0.5 * rho * u_x ** 2)\n",
        "\n",
        "        f[:, 0] = rho * u_x\n",
        "        f[:, 1] = rho * u_x ** 2 + p\n",
        "        f[:, 2] = u_x * (E + p)\n",
        "\n",
        "        return f\n",
        "\n",
        "    def spectral_radius_x(self, u):\n",
        "        rho = u[:, 0]\n",
        "        u_x = u[:, 1] / rho\n",
        "        p = (self.gamma - 1.0) * (u[:, 2] - 0.5 * rho * u_x ** 2)\n",
        "        return np.abs(u_x) + np.sqrt(self.gamma * p / rho)"
      ]
    },
    {
      "cell_type": "markdown",
      "metadata": {
        "colab_type": "text",
        "id": "COLMjK-k-oQ_"
      },
      "source": [
        "### Solution"
      ]
    },
    {
      "cell_type": "code",
      "execution_count": 4,
      "metadata": {
        "colab": {},
        "colab_type": "code",
        "id": "H7vVmXrjVru-"
      },
      "outputs": [],
      "source": [
        "eqn = Euler1d(pars)\n",
        "soln = Solver1d(eqn)\n",
        "soln.solve()"
      ]
    },
    {
      "cell_type": "markdown",
      "metadata": {
        "colab_type": "text",
        "id": "I1ahu9i_-Vs4"
      },
      "source": [
        "### Animation"
      ]
    },
    {
      "cell_type": "code",
      "execution_count": 7,
      "metadata": {
        "colab": {
          "base_uri": "https://localhost:8080/",
          "height": 598
        },
        "colab_type": "code",
        "id": "FIRRJ2kgWrIU",
        "outputId": "b3c82e99-5e52-45f3-8407-776e2a951ac9"
      },
      "outputs": [
        {
          "data": {
            "image/png": "[encoded data removed]",
            "text/plain": [
              "<Figure size 864x720 with 3 Axes>"
            ]
          },
          "metadata": {
            "needs_background": "light"
          },
          "output_type": "display_data"
        }
      ],
      "source": [
        "fig = plt.figure(figsize=(12,10))\n",
        "ax1=fig.add_subplot(1,2,1)\n",
        "ax2=fig.add_subplot(2,2,2)\n",
        "ax3=fig.add_subplot(2,2,4)\n",
        "\n",
        "ax1.set_xlabel('x')\n",
        "ax1.set_ylabel(r'$\\rho$')\n",
        "ax2.set_ylabel(r'$v_x$')\n",
        "ax3.set_xlabel('x')\n",
        "ax3.set_ylabel(r'$p$')\n",
        "plt.show()\n",
        "\n",
        "line_u=[]\n",
        "for ax in [ax1, ax2, ax3]:\n",
        "  ax.set_xlim(0, 1.05)\n",
        "  ax.set_ylim(0.1, 1.05)\n",
        "  line_u.append(ax.plot([], [], linewidth=1, color='b', marker='o', markersize=2)[0])\n",
        "\n",
        "plt.subplots_adjust(bottom=0.1, right=0.8, top=0.9)\n",
        "\n",
        "j0 = slice(2,-2)\n",
        "def animate(i):\n",
        "    rho=soln.u_n[i,j0,0]\n",
        "    u_x = soln.u_n[i,j0,1]/soln.u_n[i,j0,0]\n",
        "    p = (soln.gamma-1.)*(soln.u_n[i,j0,2]-0.5*rho*u_x**2)\n",
        "    line_u[0].set_data(soln.x[j0], rho)\n",
        "    line_u[1].set_data(soln.x[j0], u_x)\n",
        "    line_u[2].set_data(soln.x[j0], p)\n",
        "\n",
        "plt.close()\n",
        "anim = animation.FuncAnimation(fig, animate, frames=soln.Nt, interval=100, blit=False);\n",
        "anim.save('results/euler.mp4')"
      ]
    },
    {
      "cell_type": "code",
      "execution_count": null,
      "metadata": {},
      "outputs": [],
      "source": []
    }
  ],
  "metadata": {
    "colab": {
      "collapsed_sections": [
        "8jIVJ12U-P6m"
      ],
      "include_colab_link": true,
      "name": "Euler_1d.ipynb",
      "provenance": []
    },
    "kernelspec": {
      "display_name": "Python 3",
      "name": "python3"
    },
    "language_info": {
      "codemirror_mode": {
        "name": "ipython",
        "version": 3
      },
      "file_extension": ".py",
      "mimetype": "text/x-python",
      "name": "python",
      "nbconvert_exporter": "python",
      "pygments_lexer": "ipython3",
      "version": "3.9.5"
    }
  },
  "nbformat": 4,
  "nbformat_minor": 0
}
