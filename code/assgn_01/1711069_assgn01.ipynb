{
 "cells": [
  {
   "cell_type": "markdown",
   "metadata": {},
   "source": [
    "<h1 style=\"text-align: center;\"> P452 - Computational Physics</h1>\n",
    "<h2 style=\"text-align: center;\"> Assignment 1</h2>\n",
    "<h3 style=\"text-align: center;\"> Jyotirmaya Shivottam | 1711069</h3>"
   ]
  },
  {
   "cell_type": "code",
   "execution_count": 2,
   "metadata": {},
   "outputs": [],
   "source": [
    "import numpy as np\n",
    "from _1711069_assgn01_utils import OTFArray, jacobi_iter, gauss_elim, LUSolver, inverse, viz_conv"
   ]
  },
  {
   "cell_type": "markdown",
   "metadata": {},
   "source": [
    "1. Given below is a system of linear equations. Use Gauss-Jordon, and LU decomposition to solve it.\n",
    "\n",
    "$$\n",
    "\\begin{align*}\n",
    "19 &= a_1 - a_2 + 4a_3 + 2a_5 + 9a_6 \\\\\n",
    "2 &= 5a_2 - 2a_3 + 7a_4 + 8a_5 + 4a_6 \\\\\n",
    "13 &= a_1 + 5a_3 + 7a_4 + 3a_5 - 2a_6 \\\\\n",
    "-7 &= 6a_1 - a_2 + 2a_3 + 3a_4 + 8a_6 \\\\\n",
    "-9 &= -4a_1 + 2a_2 + 5a_4 - 5a_5 + 3a_6 \\\\\n",
    "2 &= 7a_2 - a_3 + 5a_4 + 4a_5 - 2a_6\n",
    "\\end{align*}\n",
    "$$"
   ]
  },
  {
   "cell_type": "code",
   "execution_count": 3,
   "metadata": {},
   "outputs": [],
   "source": [
    "A = np.array([\n",
    "    [1, -1, 4, 0, 2, 9],\n",
    "    [0, 5, -2, 7, 8, 4],\n",
    "    [1, 0, 5, 7, 3, -2],\n",
    "    [6, -1, 2, 3, 0, 8],\n",
    "    [-4, 2, 0, 5, -5, 3],\n",
    "    [0, 7, -1, 5, 4, -2]\n",
    "], dtype=float)\n",
    "\n",
    "b = np.array([19, 2, 13, -7, -9, 2])\n",
    "tol = 1e-4\n",
    "\n",
    "np.random.seed(0) # To make the results reproducible\n",
    "init_val = np.random.random(A.shape[0])"
   ]
  },
  {
   "cell_type": "code",
   "execution_count": 4,
   "metadata": {},
   "outputs": [
    {
     "name": "stdout",
     "output_type": "stream",
     "text": [
      "Solution using Gauss-Jordan Elimination: [-1.76181704  0.89622803  4.0519314  -1.6171308   2.04191354  0.15183249]\n",
      "Associated Error: [ 0.00000000e+00  3.55271368e-15  1.77635684e-15  1.06581410e-14\n",
      " -2.30926389e-14  1.06581410e-14]\n"
     ]
    }
   ],
   "source": [
    "_, sol, err = gauss_elim(A, b)\n",
    "print(f\"Solution using Gauss-Jordan Elimination: {sol}\\nAssociated Error: {err}\")"
   ]
  },
  {
   "cell_type": "code",
   "execution_count": 5,
   "metadata": {},
   "outputs": [
    {
     "name": "stdout",
     "output_type": "stream",
     "text": [
      "Solution using LU Decomposition [-1.76181704  0.89622803  4.0519314  -1.6171308   2.04191354  0.15183249]\n",
      "Associated Error: [ 0.00000000e+00 -1.77635684e-15  0.00000000e+00  0.00000000e+00\n",
      "  1.06581410e-14 -1.68753900e-14]\n"
     ]
    }
   ],
   "source": [
    "_, sol, err = LUSolver(A, b, init_val, iter_lim=10, tol=tol)\n",
    "print(f\"Solution using LU Decomposition {sol}\\nAssociated Error: {err}\")"
   ]
  },
  {
   "cell_type": "markdown",
   "metadata": {},
   "source": [
    "2. Solve the following almost sparse system $Ax = b$ using LU and Jacobi. Use Jacobi, Gauss-Seidel and Conjugate Gradient to find the inverse of the matrix $A$. Compare their convergence, may be using residue versus iteration steps plot. You may need storage for this matrix. Choose $\\epsilon = 10^{-4}$ for convergence.\n",
    "\n",
    "$$\n",
    "\\left(\\begin{matrix} \n",
    "2 & -3 & 0 & 0 & 0 & 0 \\\\\n",
    "-1 & 4 & -1 & 0 & -1 & 0 \\\\\n",
    "0 & -1 & 4 & 0 & 0 & -1 \\\\\n",
    "0 & 0 & 0 & 2 & -3 & 0 \\\\\n",
    "0 & -1 & 0 & -1 & 4 & -1 \\\\\n",
    "0 & 0 & -1 & 0 & -1 & 4\n",
    "\\end{matrix}\\right)\\left(\\begin{matrix} \n",
    "x_1 \\\\\n",
    "x_2 \\\\\n",
    "x_3 \\\\\n",
    "x_4 \\\\\n",
    "x_5 \\\\\n",
    "x_6\n",
    "\\end{matrix}\\right) = \\left(\\begin{matrix} \n",
    "-5/2 \\\\\n",
    "2/3 \\\\\n",
    "3 \\\\\n",
    "-4/3 \\\\\n",
    "-1/3 \\\\\n",
    "5/3\n",
    "\\end{matrix}\\right)\n",
    "$$"
   ]
  },
  {
   "cell_type": "code",
   "execution_count": 13,
   "metadata": {},
   "outputs": [],
   "source": [
    "A = np.array([\n",
    "    [2, -3, 0, 0, 0, 0],\n",
    "    [-1, 4, -1, 0, -1, 0],\n",
    "    [0, -1, 4, 0, 0, -1],\n",
    "    [0, 0, 0, 2, -3, 0],\n",
    "    [0, -1, 0, -1, 4, -1],\n",
    "    [0, 0, -1, 0, -1, 4]\n",
    "], dtype=float)\n",
    "\n",
    "b = np.array([-5/2, 2/3, 3, -4/3, -1/3, 5/3])\n",
    "tol = 1e-4\n",
    "\n",
    "np.random.seed(0) # To make the results reproducible\n",
    "init_val = np.random.random(A.shape[0])"
   ]
  },
  {
   "cell_type": "code",
   "execution_count": 14,
   "metadata": {},
   "outputs": [
    {
     "name": "stdout",
     "output_type": "stream",
     "text": [
      "Solution using Jacobi Iteration: [-1.11225728  0.09176888  0.92792117 -0.83957333 -0.11527819  0.61982996]\n",
      "Associated Error: [1.78797305e-04 2.31662338e-05 8.58187200e-05 2.12334684e-05\n",
      " 1.95072205e-04 1.01915919e-05]\n"
     ]
    }
   ],
   "source": [
    "_, sol, err = jacobi_iter(A, b, init_val, iter_lim=45, tol=tol)\n",
    "print(f\"Solution using Jacobi Iteration: {sol}\\nAssociated Error: {err}\")"
   ]
  },
  {
   "cell_type": "code",
   "execution_count": 8,
   "metadata": {},
   "outputs": [
    {
     "name": "stdout",
     "output_type": "stream",
     "text": [
      "Solution using LU Solver: [-0.33333333  0.33333333  1.         -0.66666667  0.          0.66666667]\n",
      "Associated Error: [0. 0. 0. 0. 0. 0.]\n"
     ]
    }
   ],
   "source": [
    "_, sol, err = LUSolver(A, b, init_val, tol=tol)\n",
    "print(f\"Solution using LU Solver: {sol}\\nAssociated Error: {err}\")"
   ]
  },
  {
   "cell_type": "code",
   "execution_count": 9,
   "metadata": {},
   "outputs": [
    {
     "data": {
      "text/plain": [
       "(array([[0.93482822, 0.86991763, 0.25948573, 0.20750292, 0.41532503,\n",
       "         0.16862289],\n",
       "        [0.28993763, 0.57999184, 0.17304656, 0.13839901, 0.27694049,\n",
       "         0.11246114],\n",
       "        [0.08654205, 0.17312607, 0.32030542, 0.05623057, 0.11251243,\n",
       "         0.10819164],\n",
       "        [0.20759851, 0.41541074, 0.16862289, 0.93482822, 0.86991763,\n",
       "         0.25956983],\n",
       "        [0.13844168, 0.27697875, 0.11246114, 0.28993763, 0.57999184,\n",
       "         0.1730841 ],\n",
       "        [0.05624593, 0.11252621, 0.10819164, 0.08654205, 0.17312607,\n",
       "         0.32031893]]),\n",
       " True)"
      ]
     },
     "execution_count": 9,
     "metadata": {},
     "output_type": "execute_result"
    }
   ],
   "source": [
    "meta_overall, A_inv = inverse(A, method=\"gauss_seidel\", iter_lim=25, tol=1e-4)\n",
    "# Checking if A_inv * A is Identity\n",
    "A_inv, np.allclose(A_inv @ A, np.identity(A.shape[0]), atol=1e-3, rtol=1e-3)"
   ]
  },
  {
   "cell_type": "code",
   "execution_count": 10,
   "metadata": {},
   "outputs": [
    {
     "data": {
      "application/vnd.plotly.v1+json": {
       "config": {
        "plotlyServerURL": "https://plot.ly"
       },
       "data": [
        {
         "marker": {
          "line": {
           "width": 2
          },
          "size": 10
         },
         "mode": "lines+markers",
         "name": "Column 0",
         "type": "scatter",
         "x": [
          0,
          1,
          2,
          3,
          4,
          5,
          6,
          7,
          8,
          9,
          10,
          11,
          12,
          13,
          14,
          15,
          16,
          17,
          18,
          19
         ],
         "y": [
          0.5175154738024749,
          0.20683077336565553,
          0.11443321914207864,
          0.07156258848551314,
          0.046704538363500074,
          0.030955755993735443,
          0.020640529646187875,
          0.013796027446484291,
          0.009230507279006268,
          0.006178478102045695,
          0.004136332570800866,
          0.0027693793271117376,
          0.0018542294177939565,
          0.001241510624304705,
          0.000831265852600037,
          0.0005565837382828503,
          0.0003726675185526446,
          0.000249524252425324,
          0.0001670721520268249,
          0.00011186530347695295
         ]
        },
        {
         "marker": {
          "line": {
           "width": 2
          },
          "size": 10
         },
         "mode": "lines+markers",
         "name": "Column 1",
         "type": "scatter",
         "x": [
          0,
          1,
          2,
          3,
          4,
          5,
          6,
          7,
          8,
          9,
          10,
          11,
          12,
          13,
          14,
          15,
          16,
          17,
          18,
          19,
          20,
          21
         ],
         "y": [
          0.2670001170411728,
          0.41366154673131106,
          0.2288664382841573,
          0.14312517697102628,
          0.09340907672700015,
          0.061911511987470885,
          0.04128105929237575,
          0.027592054892968582,
          0.018461014558012537,
          0.01235695620409139,
          0.008272665141601732,
          0.005538758654223475,
          0.003708458835587913,
          0.00248302124860941,
          0.001662531705200074,
          0.0011131674765657005,
          0.0007453350371052117,
          0.0004990485048507258,
          0.0003341443040536498,
          0.0002237306069539059,
          0.0001498017041909396,
          0.00010030165835831861
         ]
        },
        {
         "marker": {
          "line": {
           "width": 2
          },
          "size": 10
         },
         "mode": "lines+markers",
         "name": "Column 2",
         "type": "scatter",
         "x": [
          0,
          1,
          2,
          3,
          4,
          5,
          6,
          7,
          8,
          9,
          10,
          11,
          12,
          13,
          14,
          15,
          16,
          17,
          18,
          19
         ],
         "y": [
          0.2576941016011038,
          0.078125,
          0.11592747071681016,
          0.07696417037002498,
          0.05030604303654261,
          0.033313013119603566,
          0.02220197268488347,
          0.014836732181027358,
          0.009925977557244912,
          0.006643758113577012,
          0.0044477587098578734,
          0.002977868013918248,
          0.0019938169806183186,
          0.001334970795231597,
          0.00089384260862174,
          0.0005984826105614176,
          0.00040072139092257745,
          0.00026830806762478216,
          0.00017964909269673713,
          0.00012028635469709263
         ]
        },
        {
         "marker": {
          "line": {
           "width": 2
          },
          "size": 10
         },
         "mode": "lines+markers",
         "name": "Column 3",
         "type": "scatter",
         "x": [
          0,
          1,
          2,
          3,
          4,
          5,
          6,
          7,
          8,
          9,
          10,
          11,
          12,
          13,
          14,
          15,
          16,
          17,
          18,
          19
         ],
         "y": [
          0.516334738808072,
          0.2016548359240673,
          0.11652747888618928,
          0.07975794002303425,
          0.05478030670877179,
          0.03716611629401553,
          0.02503435652439914,
          0.016805779490341916,
          0.011265099497413318,
          0.007546284547530877,
          0.005053735237555354,
          0.0033840846217813325,
          0.002265940211499444,
          0.0015172129754826734,
          0.001015876169942442,
          0.0006801948689880744,
          0.00045543377132930353,
          0.00030494169806052944,
          0.000204177683121044,
          0.00013670980851894165
         ]
        },
        {
         "marker": {
          "line": {
           "width": 2
          },
          "size": 10
         },
         "mode": "lines+markers",
         "name": "Column 4",
         "type": "scatter",
         "x": [
          0,
          1,
          2,
          3,
          4,
          5,
          6,
          7,
          8,
          9,
          10,
          11,
          12,
          13,
          14,
          15,
          16,
          17,
          18,
          19,
          20,
          21
         ],
         "y": [
          0.2576941016011038,
          0.4033096718481346,
          0.23305495777237856,
          0.1595158800460685,
          0.10956061341754358,
          0.07433223258803107,
          0.05006871304879828,
          0.03361155898068383,
          0.022530198994826636,
          0.015092569095061754,
          0.010107470475110708,
          0.006768169243562665,
          0.004531880422998888,
          0.0030344259509653467,
          0.002031752339884884,
          0.0013603897379761488,
          0.0009108675426585435,
          0.0006098833961211224,
          0.000408355366242088,
          0.0002734196170378833,
          0.00018307163136116385,
          0.0001225779694538732
         ]
        },
        {
         "marker": {
          "line": {
           "width": 2
          },
          "size": 10
         },
         "mode": "lines+markers",
         "name": "Column 5",
         "type": "scatter",
         "x": [
          0,
          1,
          2,
          3,
          4,
          5,
          6,
          7,
          8,
          9,
          10,
          11,
          12,
          13,
          14,
          15,
          16,
          17,
          18,
          19,
          20
         ],
         "y": [
          0.25,
          0.09375,
          0.10827079337136875,
          0.08390236332307636,
          0.0586832634328014,
          0.03991413001384345,
          0.026905017146561516,
          0.0180669148968019,
          0.01211198166238642,
          0.008114033149698352,
          0.005434080476553981,
          0.0036388071362916433,
          0.0024365092950685736,
          0.0016314243485750334,
          0.001092349186268142,
          0.0007313987370927336,
          0.0004897180871302979,
          0.00032789723339476517,
          0.00021954786593642836,
          0.00014700111473470826,
          0.00009842649293376463
         ]
        }
       ],
       "layout": {
        "shapes": [
         {
          "line": {
           "color": "red",
           "dash": "dash",
           "width": 1
          },
          "type": "line",
          "x0": 0,
          "x1": 1,
          "xref": "x domain",
          "y0": 0.0001,
          "y1": 0.0001,
          "yref": "y"
         }
        ],
        "template": {
         "data": {
          "bar": [
           {
            "error_x": {
             "color": "#2a3f5f"
            },
            "error_y": {
             "color": "#2a3f5f"
            },
            "marker": {
             "line": {
              "color": "#E5ECF6",
              "width": 0.5
             },
             "pattern": {
              "fillmode": "overlay",
              "size": 10,
              "solidity": 0.2
             }
            },
            "type": "bar"
           }
          ],
          "barpolar": [
           {
            "marker": {
             "line": {
              "color": "#E5ECF6",
              "width": 0.5
             },
             "pattern": {
              "fillmode": "overlay",
              "size": 10,
              "solidity": 0.2
             }
            },
            "type": "barpolar"
           }
          ],
          "carpet": [
           {
            "aaxis": {
             "endlinecolor": "#2a3f5f",
             "gridcolor": "white",
             "linecolor": "white",
             "minorgridcolor": "white",
             "startlinecolor": "#2a3f5f"
            },
            "baxis": {
             "endlinecolor": "#2a3f5f",
             "gridcolor": "white",
             "linecolor": "white",
             "minorgridcolor": "white",
             "startlinecolor": "#2a3f5f"
            },
            "type": "carpet"
           }
          ],
          "choropleth": [
           {
            "colorbar": {
             "outlinewidth": 0,
             "ticks": ""
            },
            "type": "choropleth"
           }
          ],
          "contour": [
           {
            "colorbar": {
             "outlinewidth": 0,
             "ticks": ""
            },
            "colorscale": [
             [
              0,
              "#0d0887"
             ],
             [
              0.1111111111111111,
              "#46039f"
             ],
             [
              0.2222222222222222,
              "#7201a8"
             ],
             [
              0.3333333333333333,
              "#9c179e"
             ],
             [
              0.4444444444444444,
              "#bd3786"
             ],
             [
              0.5555555555555556,
              "#d8576b"
             ],
             [
              0.6666666666666666,
              "#ed7953"
             ],
             [
              0.7777777777777778,
              "#fb9f3a"
             ],
             [
              0.8888888888888888,
              "#fdca26"
             ],
             [
              1,
              "#f0f921"
             ]
            ],
            "type": "contour"
           }
          ],
          "contourcarpet": [
           {
            "colorbar": {
             "outlinewidth": 0,
             "ticks": ""
            },
            "type": "contourcarpet"
           }
          ],
          "heatmap": [
           {
            "colorbar": {
             "outlinewidth": 0,
             "ticks": ""
            },
            "colorscale": [
             [
              0,
              "#0d0887"
             ],
             [
              0.1111111111111111,
              "#46039f"
             ],
             [
              0.2222222222222222,
              "#7201a8"
             ],
             [
              0.3333333333333333,
              "#9c179e"
             ],
             [
              0.4444444444444444,
              "#bd3786"
             ],
             [
              0.5555555555555556,
              "#d8576b"
             ],
             [
              0.6666666666666666,
              "#ed7953"
             ],
             [
              0.7777777777777778,
              "#fb9f3a"
             ],
             [
              0.8888888888888888,
              "#fdca26"
             ],
             [
              1,
              "#f0f921"
             ]
            ],
            "type": "heatmap"
           }
          ],
          "heatmapgl": [
           {
            "colorbar": {
             "outlinewidth": 0,
             "ticks": ""
            },
            "colorscale": [
             [
              0,
              "#0d0887"
             ],
             [
              0.1111111111111111,
              "#46039f"
             ],
             [
              0.2222222222222222,
              "#7201a8"
             ],
             [
              0.3333333333333333,
              "#9c179e"
             ],
             [
              0.4444444444444444,
              "#bd3786"
             ],
             [
              0.5555555555555556,
              "#d8576b"
             ],
             [
              0.6666666666666666,
              "#ed7953"
             ],
             [
              0.7777777777777778,
              "#fb9f3a"
             ],
             [
              0.8888888888888888,
              "#fdca26"
             ],
             [
              1,
              "#f0f921"
             ]
            ],
            "type": "heatmapgl"
           }
          ],
          "histogram": [
           {
            "marker": {
             "pattern": {
              "fillmode": "overlay",
              "size": 10,
              "solidity": 0.2
             }
            },
            "type": "histogram"
           }
          ],
          "histogram2d": [
           {
            "colorbar": {
             "outlinewidth": 0,
             "ticks": ""
            },
            "colorscale": [
             [
              0,
              "#0d0887"
             ],
             [
              0.1111111111111111,
              "#46039f"
             ],
             [
              0.2222222222222222,
              "#7201a8"
             ],
             [
              0.3333333333333333,
              "#9c179e"
             ],
             [
              0.4444444444444444,
              "#bd3786"
             ],
             [
              0.5555555555555556,
              "#d8576b"
             ],
             [
              0.6666666666666666,
              "#ed7953"
             ],
             [
              0.7777777777777778,
              "#fb9f3a"
             ],
             [
              0.8888888888888888,
              "#fdca26"
             ],
             [
              1,
              "#f0f921"
             ]
            ],
            "type": "histogram2d"
           }
          ],
          "histogram2dcontour": [
           {
            "colorbar": {
             "outlinewidth": 0,
             "ticks": ""
            },
            "colorscale": [
             [
              0,
              "#0d0887"
             ],
             [
              0.1111111111111111,
              "#46039f"
             ],
             [
              0.2222222222222222,
              "#7201a8"
             ],
             [
              0.3333333333333333,
              "#9c179e"
             ],
             [
              0.4444444444444444,
              "#bd3786"
             ],
             [
              0.5555555555555556,
              "#d8576b"
             ],
             [
              0.6666666666666666,
              "#ed7953"
             ],
             [
              0.7777777777777778,
              "#fb9f3a"
             ],
             [
              0.8888888888888888,
              "#fdca26"
             ],
             [
              1,
              "#f0f921"
             ]
            ],
            "type": "histogram2dcontour"
           }
          ],
          "mesh3d": [
           {
            "colorbar": {
             "outlinewidth": 0,
             "ticks": ""
            },
            "type": "mesh3d"
           }
          ],
          "parcoords": [
           {
            "line": {
             "colorbar": {
              "outlinewidth": 0,
              "ticks": ""
             }
            },
            "type": "parcoords"
           }
          ],
          "pie": [
           {
            "automargin": true,
            "type": "pie"
           }
          ],
          "scatter": [
           {
            "marker": {
             "colorbar": {
              "outlinewidth": 0,
              "ticks": ""
             }
            },
            "type": "scatter"
           }
          ],
          "scatter3d": [
           {
            "line": {
             "colorbar": {
              "outlinewidth": 0,
              "ticks": ""
             }
            },
            "marker": {
             "colorbar": {
              "outlinewidth": 0,
              "ticks": ""
             }
            },
            "type": "scatter3d"
           }
          ],
          "scattercarpet": [
           {
            "marker": {
             "colorbar": {
              "outlinewidth": 0,
              "ticks": ""
             }
            },
            "type": "scattercarpet"
           }
          ],
          "scattergeo": [
           {
            "marker": {
             "colorbar": {
              "outlinewidth": 0,
              "ticks": ""
             }
            },
            "type": "scattergeo"
           }
          ],
          "scattergl": [
           {
            "marker": {
             "colorbar": {
              "outlinewidth": 0,
              "ticks": ""
             }
            },
            "type": "scattergl"
           }
          ],
          "scattermapbox": [
           {
            "marker": {
             "colorbar": {
              "outlinewidth": 0,
              "ticks": ""
             }
            },
            "type": "scattermapbox"
           }
          ],
          "scatterpolar": [
           {
            "marker": {
             "colorbar": {
              "outlinewidth": 0,
              "ticks": ""
             }
            },
            "type": "scatterpolar"
           }
          ],
          "scatterpolargl": [
           {
            "marker": {
             "colorbar": {
              "outlinewidth": 0,
              "ticks": ""
             }
            },
            "type": "scatterpolargl"
           }
          ],
          "scatterternary": [
           {
            "marker": {
             "colorbar": {
              "outlinewidth": 0,
              "ticks": ""
             }
            },
            "type": "scatterternary"
           }
          ],
          "surface": [
           {
            "colorbar": {
             "outlinewidth": 0,
             "ticks": ""
            },
            "colorscale": [
             [
              0,
              "#0d0887"
             ],
             [
              0.1111111111111111,
              "#46039f"
             ],
             [
              0.2222222222222222,
              "#7201a8"
             ],
             [
              0.3333333333333333,
              "#9c179e"
             ],
             [
              0.4444444444444444,
              "#bd3786"
             ],
             [
              0.5555555555555556,
              "#d8576b"
             ],
             [
              0.6666666666666666,
              "#ed7953"
             ],
             [
              0.7777777777777778,
              "#fb9f3a"
             ],
             [
              0.8888888888888888,
              "#fdca26"
             ],
             [
              1,
              "#f0f921"
             ]
            ],
            "type": "surface"
           }
          ],
          "table": [
           {
            "cells": {
             "fill": {
              "color": "#EBF0F8"
             },
             "line": {
              "color": "white"
             }
            },
            "header": {
             "fill": {
              "color": "#C8D4E3"
             },
             "line": {
              "color": "white"
             }
            },
            "type": "table"
           }
          ]
         },
         "layout": {
          "annotationdefaults": {
           "arrowcolor": "#2a3f5f",
           "arrowhead": 0,
           "arrowwidth": 1
          },
          "autotypenumbers": "strict",
          "coloraxis": {
           "colorbar": {
            "outlinewidth": 0,
            "ticks": ""
           }
          },
          "colorscale": {
           "diverging": [
            [
             0,
             "#8e0152"
            ],
            [
             0.1,
             "#c51b7d"
            ],
            [
             0.2,
             "#de77ae"
            ],
            [
             0.3,
             "#f1b6da"
            ],
            [
             0.4,
             "#fde0ef"
            ],
            [
             0.5,
             "#f7f7f7"
            ],
            [
             0.6,
             "#e6f5d0"
            ],
            [
             0.7,
             "#b8e186"
            ],
            [
             0.8,
             "#7fbc41"
            ],
            [
             0.9,
             "#4d9221"
            ],
            [
             1,
             "#276419"
            ]
           ],
           "sequential": [
            [
             0,
             "#0d0887"
            ],
            [
             0.1111111111111111,
             "#46039f"
            ],
            [
             0.2222222222222222,
             "#7201a8"
            ],
            [
             0.3333333333333333,
             "#9c179e"
            ],
            [
             0.4444444444444444,
             "#bd3786"
            ],
            [
             0.5555555555555556,
             "#d8576b"
            ],
            [
             0.6666666666666666,
             "#ed7953"
            ],
            [
             0.7777777777777778,
             "#fb9f3a"
            ],
            [
             0.8888888888888888,
             "#fdca26"
            ],
            [
             1,
             "#f0f921"
            ]
           ],
           "sequentialminus": [
            [
             0,
             "#0d0887"
            ],
            [
             0.1111111111111111,
             "#46039f"
            ],
            [
             0.2222222222222222,
             "#7201a8"
            ],
            [
             0.3333333333333333,
             "#9c179e"
            ],
            [
             0.4444444444444444,
             "#bd3786"
            ],
            [
             0.5555555555555556,
             "#d8576b"
            ],
            [
             0.6666666666666666,
             "#ed7953"
            ],
            [
             0.7777777777777778,
             "#fb9f3a"
            ],
            [
             0.8888888888888888,
             "#fdca26"
            ],
            [
             1,
             "#f0f921"
            ]
           ]
          },
          "colorway": [
           "#636efa",
           "#EF553B",
           "#00cc96",
           "#ab63fa",
           "#FFA15A",
           "#19d3f3",
           "#FF6692",
           "#B6E880",
           "#FF97FF",
           "#FECB52"
          ],
          "font": {
           "color": "#2a3f5f"
          },
          "geo": {
           "bgcolor": "white",
           "lakecolor": "white",
           "landcolor": "#E5ECF6",
           "showlakes": true,
           "showland": true,
           "subunitcolor": "white"
          },
          "hoverlabel": {
           "align": "left"
          },
          "hovermode": "closest",
          "mapbox": {
           "style": "light"
          },
          "paper_bgcolor": "white",
          "plot_bgcolor": "#E5ECF6",
          "polar": {
           "angularaxis": {
            "gridcolor": "white",
            "linecolor": "white",
            "ticks": ""
           },
           "bgcolor": "#E5ECF6",
           "radialaxis": {
            "gridcolor": "white",
            "linecolor": "white",
            "ticks": ""
           }
          },
          "scene": {
           "xaxis": {
            "backgroundcolor": "#E5ECF6",
            "gridcolor": "white",
            "gridwidth": 2,
            "linecolor": "white",
            "showbackground": true,
            "ticks": "",
            "zerolinecolor": "white"
           },
           "yaxis": {
            "backgroundcolor": "#E5ECF6",
            "gridcolor": "white",
            "gridwidth": 2,
            "linecolor": "white",
            "showbackground": true,
            "ticks": "",
            "zerolinecolor": "white"
           },
           "zaxis": {
            "backgroundcolor": "#E5ECF6",
            "gridcolor": "white",
            "gridwidth": 2,
            "linecolor": "white",
            "showbackground": true,
            "ticks": "",
            "zerolinecolor": "white"
           }
          },
          "shapedefaults": {
           "line": {
            "color": "#2a3f5f"
           }
          },
          "ternary": {
           "aaxis": {
            "gridcolor": "white",
            "linecolor": "white",
            "ticks": ""
           },
           "baxis": {
            "gridcolor": "white",
            "linecolor": "white",
            "ticks": ""
           },
           "bgcolor": "#E5ECF6",
           "caxis": {
            "gridcolor": "white",
            "linecolor": "white",
            "ticks": ""
           }
          },
          "title": {
           "x": 0.05
          },
          "xaxis": {
           "automargin": true,
           "gridcolor": "white",
           "linecolor": "white",
           "ticks": "",
           "title": {
            "standoff": 15
           },
           "zerolinecolor": "white",
           "zerolinewidth": 2
          },
          "yaxis": {
           "automargin": true,
           "gridcolor": "white",
           "linecolor": "white",
           "ticks": "",
           "title": {
            "standoff": 15
           },
           "zerolinecolor": "white",
           "zerolinewidth": 2
          }
         }
        },
        "title": {
         "text": "Convergence plots for Gauss-Seidel"
        },
        "xaxis": {
         "title": {
          "text": "Iteration"
         }
        },
        "yaxis": {
         "title": {
          "text": "Residue"
         }
        }
       }
      }
     },
     "metadata": {},
     "output_type": "display_data"
    }
   ],
   "source": [
    "# Visualizing convergence for Gauss-Seidel\n",
    "viz_conv(meta_overall, name=\"Gauss-Seidel\")"
   ]
  },
  {
   "cell_type": "code",
   "execution_count": 11,
   "metadata": {},
   "outputs": [
    {
     "data": {
      "text/plain": [
       "(array([[0.93482822, 0.86991763, 0.25948573, 0.20750292, 0.41532503,\n",
       "         0.16862289],\n",
       "        [0.28988548, 0.57994508, 0.17304656, 0.13839901, 0.27694049,\n",
       "         0.11241526],\n",
       "        [0.08652328, 0.17310924, 0.32028524, 0.05620763, 0.11249186,\n",
       "         0.10817512],\n",
       "        [0.20750292, 0.41532503, 0.16862289, 0.93482822, 0.86991763,\n",
       "         0.25948573],\n",
       "        [0.13839901, 0.27694049, 0.11241526, 0.28988548, 0.57994508,\n",
       "         0.17304656],\n",
       "        [0.05620763, 0.11249186, 0.10817512, 0.08652328, 0.17310924,\n",
       "         0.32028524]]),\n",
       " True)"
      ]
     },
     "execution_count": 11,
     "metadata": {},
     "output_type": "execute_result"
    }
   ],
   "source": [
    "meta_overall, A_inv = inverse(A, method=\"jacobi\", iter_lim=45, tol=1e-4)\n",
    "# Checking if A_inv * A is Identity\n",
    "A_inv, np.allclose(A_inv @ A, np.identity(A.shape[0]), atol=1e-3, rtol=1e-3)"
   ]
  },
  {
   "cell_type": "code",
   "execution_count": 11,
   "metadata": {},
   "outputs": [
    {
     "data": {
      "application/vnd.plotly.v1+json": {
       "config": {
        "plotlyServerURL": "https://plot.ly"
       },
       "data": [
        {
         "marker": {
          "line": {
           "width": 2
          },
          "size": 10
         },
         "mode": "lines+markers",
         "name": "Column 0",
         "type": "scatter",
         "x": [
          0,
          1,
          2,
          3,
          4,
          5,
          6,
          7,
          8,
          9,
          10,
          11,
          12,
          13,
          14,
          15,
          16,
          17,
          18,
          19,
          20,
          21,
          22,
          23,
          24,
          25,
          26,
          27,
          28,
          29,
          30,
          31,
          32,
          33,
          34,
          35,
          36,
          37
         ],
         "y": [
          0.5,
          0.125,
          0.1926379375927805,
          0.07967217989988726,
          0.10073278873615334,
          0.060531121942623965,
          0.06048975064811955,
          0.043354212823073626,
          0.03866217038698289,
          0.029903481696643797,
          0.025381965088857875,
          0.020278625014163786,
          0.016853620455534943,
          0.013651552896752035,
          0.011244703381865302,
          0.009161635539697583,
          0.007517741153278406,
          0.006140290382183814,
          0.0050303939053942745,
          0.004113017302759281,
          0.0033672540353395994,
          0.002754409040207541,
          0.0022543293982676396,
          0.0018443880188923174,
          0.0015093416847129662,
          0.0012349729678098563,
          0.0010105782387123431,
          0.0008269031992774268,
          0.0006766397234008825,
          0.000553666851542278,
          0.00045305114711146136,
          0.00037071566881429684,
          0.0003033457472415737,
          0.00024821770438434096,
          0.0002031089134563594,
          0.00016619743206837458,
          0.0001359941487942655,
          0.00011127965078624782
         ]
        },
        {
         "marker": {
          "line": {
           "width": 2
          },
          "size": 10
         },
         "mode": "lines+markers",
         "name": "Column 1",
         "type": "scatter",
         "x": [
          0,
          1,
          2,
          3,
          4,
          5,
          6,
          7,
          8,
          9,
          10,
          11,
          12,
          13,
          14,
          15,
          16,
          17,
          18,
          19,
          20,
          21,
          22,
          23,
          24,
          25,
          26,
          27,
          28,
          29,
          30,
          31,
          32,
          33,
          34,
          35,
          36,
          37,
          38,
          39,
          40
         ],
         "y": [
          0.25,
          0.385275875185561,
          0.15934435979977452,
          0.20146557747230667,
          0.12106224388524793,
          0.1209795012962391,
          0.08670842564614725,
          0.07732434077396579,
          0.059806963393287595,
          0.05076393017771575,
          0.04055725002832757,
          0.033707240911069886,
          0.02730310579350407,
          0.022489406763730603,
          0.018323271079395166,
          0.015035482306556812,
          0.012280580764367627,
          0.010060787810788549,
          0.008226034605518562,
          0.006734508070679199,
          0.005508818080415082,
          0.004508658796535279,
          0.0036887760377846347,
          0.0030186833694259324,
          0.0024699459356197126,
          0.0020211564774246862,
          0.0016538063985548537,
          0.001353279446801765,
          0.001107333703084556,
          0.0009061022942229227,
          0.0007414313376285937,
          0.000606691494483052,
          0.0004964354087686819,
          0.0004062178269128142,
          0.00033239486413674915,
          0.000271988297588531,
          0.00022255930157249565,
          0.0001821132438691814,
          0.00014901745712534218,
          0.0001219362604911745,
          0.00009977656005486453
         ]
        },
        {
         "marker": {
          "line": {
           "width": 2
          },
          "size": 10
         },
         "mode": "lines+markers",
         "name": "Column 2",
         "type": "scatter",
         "x": [
          0,
          1,
          2,
          3,
          4,
          5,
          6,
          7,
          8,
          9,
          10,
          11,
          12,
          13,
          14,
          15,
          16,
          17,
          18,
          19,
          20,
          21,
          22,
          23,
          24,
          25,
          26,
          27,
          28,
          29,
          30,
          31,
          32,
          33,
          34,
          35,
          36
         ],
         "y": [
          0.25,
          0.08838834764831845,
          0.10364452469860624,
          0.06298638865858242,
          0.06530567772383003,
          0.04628123285575307,
          0.04171948264403792,
          0.03207094013004199,
          0.027337022362457965,
          0.021781734325454154,
          0.018134974309707095,
          0.0146725464276792,
          0.01209477180863404,
          0.009849408140171441,
          0.008084682549075056,
          0.006601981026836875,
          0.005409363274867676,
          0.004422485119802702,
          0.003620817923742738,
          0.0029617130249422956,
          0.002424055236619053,
          0.0019832183163024167,
          0.001622969273709309,
          0.0013279363263100235,
          0.0010866549233908935,
          0.0008891502145639766,
          0.0007275766729316237,
          0.0005953457678488502,
          0.0004871563036547441,
          0.00039862250168207723,
          0.00032618119897529543,
          0.00026690313415064066,
          0.00021839865715828413,
          0.000178708516481682,
          0.0001462315858485674,
          0.00011965661249630863,
          0.00009791122752123111
         ]
        },
        {
         "marker": {
          "line": {
           "width": 2
          },
          "size": 10
         },
         "mode": "lines+markers",
         "name": "Column 3",
         "type": "scatter",
         "x": [
          0,
          1,
          2,
          3,
          4,
          5,
          6,
          7,
          8,
          9,
          10,
          11,
          12,
          13,
          14,
          15,
          16,
          17,
          18,
          19,
          20,
          21,
          22,
          23,
          24,
          25,
          26,
          27,
          28,
          29,
          30,
          31,
          32,
          33,
          34,
          35,
          36,
          37
         ],
         "y": [
          0.5,
          0.125,
          0.1926379375927805,
          0.07967217989988726,
          0.10073278873615334,
          0.060531121942623965,
          0.06048975064811955,
          0.043354212823073626,
          0.03866217038698289,
          0.029903481696643797,
          0.025381965088857875,
          0.020278625014163786,
          0.016853620455534943,
          0.013651552896752035,
          0.011244703381865302,
          0.009161635539697583,
          0.007517741153278406,
          0.006140290382183814,
          0.0050303939053942745,
          0.004113017302759281,
          0.0033672540353395994,
          0.002754409040207541,
          0.0022543293982676396,
          0.0018443880188923174,
          0.0015093416847129662,
          0.001234972967809856,
          0.0010105782387123431,
          0.0008269031992774268,
          0.0006766397234008825,
          0.000553666851542278,
          0.00045305114711146136,
          0.00037071566881429684,
          0.0003033457472415737,
          0.00024821770438431494,
          0.00020310891345625833,
          0.00016619743206837314,
          0.00013599414879426834,
          0.00011127965078624925
         ]
        },
        {
         "marker": {
          "line": {
           "width": 2
          },
          "size": 10
         },
         "mode": "lines+markers",
         "name": "Column 4",
         "type": "scatter",
         "x": [
          0,
          1,
          2,
          3,
          4,
          5,
          6,
          7,
          8,
          9,
          10,
          11,
          12,
          13,
          14,
          15,
          16,
          17,
          18,
          19,
          20,
          21,
          22,
          23,
          24,
          25,
          26,
          27,
          28,
          29,
          30,
          31,
          32,
          33,
          34,
          35,
          36,
          37,
          38,
          39,
          40
         ],
         "y": [
          0.25,
          0.385275875185561,
          0.15934435979977452,
          0.20146557747230667,
          0.12106224388524793,
          0.1209795012962391,
          0.08670842564614725,
          0.07732434077396579,
          0.059806963393287595,
          0.05076393017771575,
          0.04055725002832757,
          0.033707240911069886,
          0.02730310579350407,
          0.022489406763730603,
          0.018323271079395166,
          0.015035482306556812,
          0.012280580764367627,
          0.010060787810788549,
          0.008226034605518562,
          0.006734508070679199,
          0.005508818080415082,
          0.004508658796535279,
          0.0036887760377846347,
          0.0030186833694259324,
          0.002469945935619712,
          0.0020211564774246862,
          0.0016538063985548537,
          0.001353279446801765,
          0.001107333703084556,
          0.0009061022942229227,
          0.0007414313376285937,
          0.000606691494483052,
          0.0004964354087686299,
          0.000406217826912612,
          0.0003323948641367463,
          0.0002719882975885367,
          0.0002225593015724985,
          0.0001821132438691814,
          0.0001490174571253393,
          0.00012193626049124384,
          0.00009977656005482117
         ]
        },
        {
         "marker": {
          "line": {
           "width": 2
          },
          "size": 10
         },
         "mode": "lines+markers",
         "name": "Column 5",
         "type": "scatter",
         "x": [
          0,
          1,
          2,
          3,
          4,
          5,
          6,
          7,
          8,
          9,
          10,
          11,
          12,
          13,
          14,
          15,
          16,
          17,
          18,
          19,
          20,
          21,
          22,
          23,
          24,
          25,
          26,
          27,
          28,
          29,
          30,
          31,
          32,
          33,
          34,
          35,
          36
         ],
         "y": [
          0.25,
          0.08838834764831845,
          0.10364452469860624,
          0.06298638865858242,
          0.06530567772383003,
          0.04628123285575307,
          0.04171948264403792,
          0.03207094013004199,
          0.027337022362457965,
          0.021781734325454154,
          0.018134974309707095,
          0.0146725464276792,
          0.01209477180863404,
          0.009849408140171441,
          0.008084682549075056,
          0.006601981026836875,
          0.005409363274867676,
          0.004422485119802702,
          0.003620817923742738,
          0.0029617130249422956,
          0.002424055236619053,
          0.0019832183163024167,
          0.001622969273709309,
          0.0013279363263100235,
          0.0010866549233908935,
          0.0008891502145639766,
          0.0007275766729316237,
          0.0005953457678488502,
          0.0004871563036547441,
          0.00039862250168207723,
          0.00032618119897529543,
          0.00026690313415064066,
          0.00021839865715828413,
          0.000178708516481682,
          0.0001462315858485739,
          0.00011965661249630862,
          0.00009791122752123111
         ]
        }
       ],
       "layout": {
        "shapes": [
         {
          "line": {
           "color": "red",
           "dash": "dash",
           "width": 1
          },
          "type": "line",
          "x0": 0,
          "x1": 1,
          "xref": "x domain",
          "y0": 0.0001,
          "y1": 0.0001,
          "yref": "y"
         }
        ],
        "template": {
         "data": {
          "bar": [
           {
            "error_x": {
             "color": "#2a3f5f"
            },
            "error_y": {
             "color": "#2a3f5f"
            },
            "marker": {
             "line": {
              "color": "#E5ECF6",
              "width": 0.5
             },
             "pattern": {
              "fillmode": "overlay",
              "size": 10,
              "solidity": 0.2
             }
            },
            "type": "bar"
           }
          ],
          "barpolar": [
           {
            "marker": {
             "line": {
              "color": "#E5ECF6",
              "width": 0.5
             },
             "pattern": {
              "fillmode": "overlay",
              "size": 10,
              "solidity": 0.2
             }
            },
            "type": "barpolar"
           }
          ],
          "carpet": [
           {
            "aaxis": {
             "endlinecolor": "#2a3f5f",
             "gridcolor": "white",
             "linecolor": "white",
             "minorgridcolor": "white",
             "startlinecolor": "#2a3f5f"
            },
            "baxis": {
             "endlinecolor": "#2a3f5f",
             "gridcolor": "white",
             "linecolor": "white",
             "minorgridcolor": "white",
             "startlinecolor": "#2a3f5f"
            },
            "type": "carpet"
           }
          ],
          "choropleth": [
           {
            "colorbar": {
             "outlinewidth": 0,
             "ticks": ""
            },
            "type": "choropleth"
           }
          ],
          "contour": [
           {
            "colorbar": {
             "outlinewidth": 0,
             "ticks": ""
            },
            "colorscale": [
             [
              0,
              "#0d0887"
             ],
             [
              0.1111111111111111,
              "#46039f"
             ],
             [
              0.2222222222222222,
              "#7201a8"
             ],
             [
              0.3333333333333333,
              "#9c179e"
             ],
             [
              0.4444444444444444,
              "#bd3786"
             ],
             [
              0.5555555555555556,
              "#d8576b"
             ],
             [
              0.6666666666666666,
              "#ed7953"
             ],
             [
              0.7777777777777778,
              "#fb9f3a"
             ],
             [
              0.8888888888888888,
              "#fdca26"
             ],
             [
              1,
              "#f0f921"
             ]
            ],
            "type": "contour"
           }
          ],
          "contourcarpet": [
           {
            "colorbar": {
             "outlinewidth": 0,
             "ticks": ""
            },
            "type": "contourcarpet"
           }
          ],
          "heatmap": [
           {
            "colorbar": {
             "outlinewidth": 0,
             "ticks": ""
            },
            "colorscale": [
             [
              0,
              "#0d0887"
             ],
             [
              0.1111111111111111,
              "#46039f"
             ],
             [
              0.2222222222222222,
              "#7201a8"
             ],
             [
              0.3333333333333333,
              "#9c179e"
             ],
             [
              0.4444444444444444,
              "#bd3786"
             ],
             [
              0.5555555555555556,
              "#d8576b"
             ],
             [
              0.6666666666666666,
              "#ed7953"
             ],
             [
              0.7777777777777778,
              "#fb9f3a"
             ],
             [
              0.8888888888888888,
              "#fdca26"
             ],
             [
              1,
              "#f0f921"
             ]
            ],
            "type": "heatmap"
           }
          ],
          "heatmapgl": [
           {
            "colorbar": {
             "outlinewidth": 0,
             "ticks": ""
            },
            "colorscale": [
             [
              0,
              "#0d0887"
             ],
             [
              0.1111111111111111,
              "#46039f"
             ],
             [
              0.2222222222222222,
              "#7201a8"
             ],
             [
              0.3333333333333333,
              "#9c179e"
             ],
             [
              0.4444444444444444,
              "#bd3786"
             ],
             [
              0.5555555555555556,
              "#d8576b"
             ],
             [
              0.6666666666666666,
              "#ed7953"
             ],
             [
              0.7777777777777778,
              "#fb9f3a"
             ],
             [
              0.8888888888888888,
              "#fdca26"
             ],
             [
              1,
              "#f0f921"
             ]
            ],
            "type": "heatmapgl"
           }
          ],
          "histogram": [
           {
            "marker": {
             "pattern": {
              "fillmode": "overlay",
              "size": 10,
              "solidity": 0.2
             }
            },
            "type": "histogram"
           }
          ],
          "histogram2d": [
           {
            "colorbar": {
             "outlinewidth": 0,
             "ticks": ""
            },
            "colorscale": [
             [
              0,
              "#0d0887"
             ],
             [
              0.1111111111111111,
              "#46039f"
             ],
             [
              0.2222222222222222,
              "#7201a8"
             ],
             [
              0.3333333333333333,
              "#9c179e"
             ],
             [
              0.4444444444444444,
              "#bd3786"
             ],
             [
              0.5555555555555556,
              "#d8576b"
             ],
             [
              0.6666666666666666,
              "#ed7953"
             ],
             [
              0.7777777777777778,
              "#fb9f3a"
             ],
             [
              0.8888888888888888,
              "#fdca26"
             ],
             [
              1,
              "#f0f921"
             ]
            ],
            "type": "histogram2d"
           }
          ],
          "histogram2dcontour": [
           {
            "colorbar": {
             "outlinewidth": 0,
             "ticks": ""
            },
            "colorscale": [
             [
              0,
              "#0d0887"
             ],
             [
              0.1111111111111111,
              "#46039f"
             ],
             [
              0.2222222222222222,
              "#7201a8"
             ],
             [
              0.3333333333333333,
              "#9c179e"
             ],
             [
              0.4444444444444444,
              "#bd3786"
             ],
             [
              0.5555555555555556,
              "#d8576b"
             ],
             [
              0.6666666666666666,
              "#ed7953"
             ],
             [
              0.7777777777777778,
              "#fb9f3a"
             ],
             [
              0.8888888888888888,
              "#fdca26"
             ],
             [
              1,
              "#f0f921"
             ]
            ],
            "type": "histogram2dcontour"
           }
          ],
          "mesh3d": [
           {
            "colorbar": {
             "outlinewidth": 0,
             "ticks": ""
            },
            "type": "mesh3d"
           }
          ],
          "parcoords": [
           {
            "line": {
             "colorbar": {
              "outlinewidth": 0,
              "ticks": ""
             }
            },
            "type": "parcoords"
           }
          ],
          "pie": [
           {
            "automargin": true,
            "type": "pie"
           }
          ],
          "scatter": [
           {
            "marker": {
             "colorbar": {
              "outlinewidth": 0,
              "ticks": ""
             }
            },
            "type": "scatter"
           }
          ],
          "scatter3d": [
           {
            "line": {
             "colorbar": {
              "outlinewidth": 0,
              "ticks": ""
             }
            },
            "marker": {
             "colorbar": {
              "outlinewidth": 0,
              "ticks": ""
             }
            },
            "type": "scatter3d"
           }
          ],
          "scattercarpet": [
           {
            "marker": {
             "colorbar": {
              "outlinewidth": 0,
              "ticks": ""
             }
            },
            "type": "scattercarpet"
           }
          ],
          "scattergeo": [
           {
            "marker": {
             "colorbar": {
              "outlinewidth": 0,
              "ticks": ""
             }
            },
            "type": "scattergeo"
           }
          ],
          "scattergl": [
           {
            "marker": {
             "colorbar": {
              "outlinewidth": 0,
              "ticks": ""
             }
            },
            "type": "scattergl"
           }
          ],
          "scattermapbox": [
           {
            "marker": {
             "colorbar": {
              "outlinewidth": 0,
              "ticks": ""
             }
            },
            "type": "scattermapbox"
           }
          ],
          "scatterpolar": [
           {
            "marker": {
             "colorbar": {
              "outlinewidth": 0,
              "ticks": ""
             }
            },
            "type": "scatterpolar"
           }
          ],
          "scatterpolargl": [
           {
            "marker": {
             "colorbar": {
              "outlinewidth": 0,
              "ticks": ""
             }
            },
            "type": "scatterpolargl"
           }
          ],
          "scatterternary": [
           {
            "marker": {
             "colorbar": {
              "outlinewidth": 0,
              "ticks": ""
             }
            },
            "type": "scatterternary"
           }
          ],
          "surface": [
           {
            "colorbar": {
             "outlinewidth": 0,
             "ticks": ""
            },
            "colorscale": [
             [
              0,
              "#0d0887"
             ],
             [
              0.1111111111111111,
              "#46039f"
             ],
             [
              0.2222222222222222,
              "#7201a8"
             ],
             [
              0.3333333333333333,
              "#9c179e"
             ],
             [
              0.4444444444444444,
              "#bd3786"
             ],
             [
              0.5555555555555556,
              "#d8576b"
             ],
             [
              0.6666666666666666,
              "#ed7953"
             ],
             [
              0.7777777777777778,
              "#fb9f3a"
             ],
             [
              0.8888888888888888,
              "#fdca26"
             ],
             [
              1,
              "#f0f921"
             ]
            ],
            "type": "surface"
           }
          ],
          "table": [
           {
            "cells": {
             "fill": {
              "color": "#EBF0F8"
             },
             "line": {
              "color": "white"
             }
            },
            "header": {
             "fill": {
              "color": "#C8D4E3"
             },
             "line": {
              "color": "white"
             }
            },
            "type": "table"
           }
          ]
         },
         "layout": {
          "annotationdefaults": {
           "arrowcolor": "#2a3f5f",
           "arrowhead": 0,
           "arrowwidth": 1
          },
          "autotypenumbers": "strict",
          "coloraxis": {
           "colorbar": {
            "outlinewidth": 0,
            "ticks": ""
           }
          },
          "colorscale": {
           "diverging": [
            [
             0,
             "#8e0152"
            ],
            [
             0.1,
             "#c51b7d"
            ],
            [
             0.2,
             "#de77ae"
            ],
            [
             0.3,
             "#f1b6da"
            ],
            [
             0.4,
             "#fde0ef"
            ],
            [
             0.5,
             "#f7f7f7"
            ],
            [
             0.6,
             "#e6f5d0"
            ],
            [
             0.7,
             "#b8e186"
            ],
            [
             0.8,
             "#7fbc41"
            ],
            [
             0.9,
             "#4d9221"
            ],
            [
             1,
             "#276419"
            ]
           ],
           "sequential": [
            [
             0,
             "#0d0887"
            ],
            [
             0.1111111111111111,
             "#46039f"
            ],
            [
             0.2222222222222222,
             "#7201a8"
            ],
            [
             0.3333333333333333,
             "#9c179e"
            ],
            [
             0.4444444444444444,
             "#bd3786"
            ],
            [
             0.5555555555555556,
             "#d8576b"
            ],
            [
             0.6666666666666666,
             "#ed7953"
            ],
            [
             0.7777777777777778,
             "#fb9f3a"
            ],
            [
             0.8888888888888888,
             "#fdca26"
            ],
            [
             1,
             "#f0f921"
            ]
           ],
           "sequentialminus": [
            [
             0,
             "#0d0887"
            ],
            [
             0.1111111111111111,
             "#46039f"
            ],
            [
             0.2222222222222222,
             "#7201a8"
            ],
            [
             0.3333333333333333,
             "#9c179e"
            ],
            [
             0.4444444444444444,
             "#bd3786"
            ],
            [
             0.5555555555555556,
             "#d8576b"
            ],
            [
             0.6666666666666666,
             "#ed7953"
            ],
            [
             0.7777777777777778,
             "#fb9f3a"
            ],
            [
             0.8888888888888888,
             "#fdca26"
            ],
            [
             1,
             "#f0f921"
            ]
           ]
          },
          "colorway": [
           "#636efa",
           "#EF553B",
           "#00cc96",
           "#ab63fa",
           "#FFA15A",
           "#19d3f3",
           "#FF6692",
           "#B6E880",
           "#FF97FF",
           "#FECB52"
          ],
          "font": {
           "color": "#2a3f5f"
          },
          "geo": {
           "bgcolor": "white",
           "lakecolor": "white",
           "landcolor": "#E5ECF6",
           "showlakes": true,
           "showland": true,
           "subunitcolor": "white"
          },
          "hoverlabel": {
           "align": "left"
          },
          "hovermode": "closest",
          "mapbox": {
           "style": "light"
          },
          "paper_bgcolor": "white",
          "plot_bgcolor": "#E5ECF6",
          "polar": {
           "angularaxis": {
            "gridcolor": "white",
            "linecolor": "white",
            "ticks": ""
           },
           "bgcolor": "#E5ECF6",
           "radialaxis": {
            "gridcolor": "white",
            "linecolor": "white",
            "ticks": ""
           }
          },
          "scene": {
           "xaxis": {
            "backgroundcolor": "#E5ECF6",
            "gridcolor": "white",
            "gridwidth": 2,
            "linecolor": "white",
            "showbackground": true,
            "ticks": "",
            "zerolinecolor": "white"
           },
           "yaxis": {
            "backgroundcolor": "#E5ECF6",
            "gridcolor": "white",
            "gridwidth": 2,
            "linecolor": "white",
            "showbackground": true,
            "ticks": "",
            "zerolinecolor": "white"
           },
           "zaxis": {
            "backgroundcolor": "#E5ECF6",
            "gridcolor": "white",
            "gridwidth": 2,
            "linecolor": "white",
            "showbackground": true,
            "ticks": "",
            "zerolinecolor": "white"
           }
          },
          "shapedefaults": {
           "line": {
            "color": "#2a3f5f"
           }
          },
          "ternary": {
           "aaxis": {
            "gridcolor": "white",
            "linecolor": "white",
            "ticks": ""
           },
           "baxis": {
            "gridcolor": "white",
            "linecolor": "white",
            "ticks": ""
           },
           "bgcolor": "#E5ECF6",
           "caxis": {
            "gridcolor": "white",
            "linecolor": "white",
            "ticks": ""
           }
          },
          "title": {
           "x": 0.05
          },
          "xaxis": {
           "automargin": true,
           "gridcolor": "white",
           "linecolor": "white",
           "ticks": "",
           "title": {
            "standoff": 15
           },
           "zerolinecolor": "white",
           "zerolinewidth": 2
          },
          "yaxis": {
           "automargin": true,
           "gridcolor": "white",
           "linecolor": "white",
           "ticks": "",
           "title": {
            "standoff": 15
           },
           "zerolinecolor": "white",
           "zerolinewidth": 2
          }
         }
        },
        "title": {
         "text": "Convergence plots for Jacobi"
        },
        "xaxis": {
         "title": {
          "text": "Iteration"
         }
        },
        "yaxis": {
         "title": {
          "text": "Residue"
         }
        }
       }
      }
     },
     "metadata": {},
     "output_type": "display_data"
    }
   ],
   "source": [
    "# Visualizing convergence for Jacobi\n",
    "viz_conv(meta_overall, name=\"Jacobi\")"
   ]
  },
  {
   "cell_type": "markdown",
   "metadata": {},
   "source": [
    "#### *Clearly, Gauss-Seidel converges in approximately half as many steps as Jacobi.*"
   ]
  },
  {
   "cell_type": "code",
   "execution_count": 12,
   "metadata": {},
   "outputs": [
    {
     "name": "stdout",
     "output_type": "stream",
     "text": [
      "Invalid input matrix. Input matrix is not symmetric.\n"
     ]
    }
   ],
   "source": [
    "# Conjugate Gradient\n",
    "# NOTE: Won't work because input matrix is not symmetric.\n",
    "try:\n",
    "    meta_overall, A_inv = inverse(A, method=\"conj_grad\", iter_lim=100, tol=1e-4)\n",
    "except Exception as e:\n",
    "    print(\"Invalid input matrix.\", str(e))\n",
    "\n",
    "# Checking if A_inv * A is Identity\n",
    "# A_inv, np.allclose(A_inv @ A, np.identity(A.shape[0]), atol=1e-3, rtol=1e-3)\n",
    "# Visualizing convergence for Jacobi\n",
    "# viz_conv(meta_overall, name=\"Conjugate Gradient\")"
   ]
  },
  {
   "cell_type": "markdown",
   "metadata": {},
   "source": [
    "3. Find the inverse of the following matrix using Conjugate Gradient by generating the matrix on the fly i.e. without actually storing it. It is a two-dimensional 20 $\\times$ 20 system with periodic boundary condition. Plot the residue versus iteration steps. Use $m = 0.2$ and convergence criteria to be $\\epsilon = 10^{-6}$.\n",
    "\n",
    "$$\n",
    "A = \\frac{1}{2}\\left(\\delta_{x + \\mu, y} + \\delta_{x - \\mu, y} + 2\\delta_{x, y}\\right) + m^2\\delta_{x, y}\n",
    "$$"
   ]
  },
  {
   "cell_type": "code",
   "execution_count": 13,
   "metadata": {},
   "outputs": [],
   "source": [
    "def kron_delta(x, y):\n",
    "    \"\"\"\n",
    "    Helper function to A()\n",
    "\n",
    "    \"\"\"\n",
    "    if x == y:\n",
    "        return 1\n",
    "    return 0\n",
    "\n",
    "def A(x, y, m=0.2, mu=1):\n",
    "    \"\"\"\n",
    "    To get matrix elements on the fly\n",
    "\n",
    "    \"\"\"\n",
    "    return 0.5 * (kron_delta(x + mu, y) + kron_delta(x - mu, y) + 2 * kron_delta(x, y)) + m ** 2 * kron_delta(x, y)"
   ]
  },
  {
   "cell_type": "code",
   "execution_count": 14,
   "metadata": {},
   "outputs": [],
   "source": [
    "N = 20\n",
    "\n",
    "np.random.seed(0)\n",
    "init_val = np.random.random(N)\n",
    "B = np.identity(N)"
   ]
  },
  {
   "cell_type": "code",
   "execution_count": 15,
   "metadata": {},
   "outputs": [
    {
     "name": "stdout",
     "output_type": "stream",
     "text": [
      "OTFArray([\n",
      "\t1.04\t0.5\t0.0\t0.0\t......\t......\t......\t......\n",
      "\t0.5\t1.04\t0.5\t0.0\t......\t......\t......\t......\n",
      "\t0.0\t0.5\t1.04\t0.5\t......\t......\t......\t......\n",
      "\t0.0\t0.0\t0.5\t1.04\t......\t......\t......\t......\n",
      "\t.\t.\t.\t.\n",
      "\t.\t.\t.\t.\n",
      "\t.\t.\t.\t.\n",
      "\t......\t......\t......\t......\t1.04\t0.5\t0.0\t0.0\n",
      "\t......\t......\t......\t......\t0.5\t1.04\t0.5\t0.0\n",
      "\t......\t......\t......\t......\t0.0\t0.5\t1.04\t0.5\n",
      "\t......\t......\t......\t......\t0.0\t0.0\t0.5\t1.04\n",
      "\n",
      "])\n"
     ]
    }
   ],
   "source": [
    "# Creating a custom matrix, that only calculates values based on input index\n",
    "M = OTFArray(shape=(N, N), logic=A)\n",
    "print(M)"
   ]
  },
  {
   "cell_type": "code",
   "execution_count": 16,
   "metadata": {},
   "outputs": [
    {
     "data": {
      "text/plain": [
       "True"
      ]
     },
     "execution_count": 16,
     "metadata": {},
     "output_type": "execute_result"
    }
   ],
   "source": [
    "meta_overall, M_inv = inverse(M, method=\"conj_grad\", iter_lim=20, tol=1e-6)\n",
    "# M_inv\n",
    "np.allclose(M_inv @ M.dense, np.identity(M.shape[0]), atol=1e-12, rtol=1e-12)"
   ]
  },
  {
   "cell_type": "code",
   "execution_count": 17,
   "metadata": {},
   "outputs": [
    {
     "data": {
      "application/vnd.plotly.v1+json": {
       "config": {
        "plotlyServerURL": "https://plot.ly"
       },
       "data": [
        {
         "marker": {
          "line": {
           "width": 2
          },
          "size": 10
         },
         "mode": "lines+markers",
         "name": "Column 0",
         "type": "scatter",
         "x": [
          0,
          1,
          2,
          3,
          4,
          5,
          6,
          7,
          8,
          9,
          10,
          11,
          12,
          13,
          14,
          15,
          16,
          17,
          18,
          19
         ],
         "y": [
          0.4807692307692307,
          0.3006253006253006,
          0.20665802560575594,
          0.1484001654863669,
          0.10896516475527329,
          0.08097079196626757,
          0.06056557167205737,
          0.045469403579304776,
          0.03420672633950312,
          0.025763937348117945,
          0.019417858296450888,
          0.014640442510060707,
          0.01104079070918268,
          0.008327201899291325,
          0.006280990373335908,
          0.0047377735015024175,
          0.0035737997153126888,
          0.0026958248485961936,
          0.0020335567210711266,
          1.967367144470577e-18
         ]
        },
        {
         "marker": {
          "line": {
           "width": 2
          },
          "size": 10
         },
         "mode": "lines+markers",
         "name": "Column 1",
         "type": "scatter",
         "x": [
          0,
          1,
          2,
          3,
          4,
          5,
          6,
          7,
          8,
          9,
          10,
          11,
          12,
          13,
          14,
          15,
          16,
          17,
          18
         ],
         "y": [
          0.9259259259259252,
          0.7012968800913817,
          0.44503212964980116,
          0.33561270744624155,
          0.26296559974293016,
          0.18351627611084645,
          0.14004576302425858,
          0.10934686088628112,
          0.07845237603066509,
          0.05980700355306866,
          0.046407836020670355,
          0.03371179494700702,
          0.025647781849817242,
          0.019804674706149075,
          0.014490868576156472,
          0.011007303123163071,
          0.00846932903844311,
          0.006226958789487684,
          2.0969349369377417e-17
         ]
        },
        {
         "marker": {
          "line": {
           "width": 2
          },
          "size": 10
         },
         "mode": "lines+markers",
         "name": "Column 2",
         "type": "scatter",
         "x": [
          0,
          1,
          2,
          3,
          4,
          5,
          6,
          7,
          8,
          9,
          10,
          11,
          12,
          13,
          14,
          15,
          16,
          17,
          18,
          19
         ],
         "y": [
          1.3094570021973102,
          0.8023106546854945,
          0.5967053402813665,
          0.5103901200425868,
          0.30886048756830653,
          0.26260751911568675,
          0.18493524528188943,
          0.14064406114878467,
          0.11436984543418974,
          0.07639628475946209,
          0.0623378478250331,
          0.04502018434832853,
          0.03422707777686285,
          0.027189712245800263,
          0.01883898509879493,
          0.01505459654142771,
          0.010994221056798911,
          0.0027826688794351695,
          0.001397964550185233,
          6.888278473755987e-18
         ]
        },
        {
         "marker": {
          "line": {
           "width": 2
          },
          "size": 10
         },
         "mode": "lines+markers",
         "name": "Column 3",
         "type": "scatter",
         "x": [
          0,
          1,
          2,
          3,
          4,
          5,
          6,
          7,
          8,
          9,
          10,
          11,
          12,
          13,
          14,
          15,
          16
         ],
         "y": [
          1.3094570021973095,
          1.1346386090926626,
          0.6611517792916681,
          0.4854656548948953,
          0.4111664874840499,
          0.3334555902069072,
          0.19620433098173864,
          0.16461193036915567,
          0.13264267684861367,
          0.09015150086717774,
          0.06758243756087194,
          0.05442027854490478,
          0.04269070467026652,
          0.02796867096372783,
          0.02259017546458685,
          0.01775532440373877,
          8.24966039536066e-17
         ]
        },
        {
         "marker": {
          "line": {
           "width": 2
          },
          "size": 10
         },
         "mode": "lines+markers",
         "name": "Column 4",
         "type": "scatter",
         "x": [
          0,
          1,
          2,
          3,
          4,
          5,
          6,
          7,
          8,
          9,
          10,
          11,
          12,
          13,
          14,
          15,
          16,
          17,
          18
         ],
         "y": [
          1.3094570021973106,
          1.1346386090926632,
          0.9350098130613808,
          0.5264196991810431,
          0.38333605739693744,
          0.32263346647073393,
          0.26053423110905816,
          0.20474587190036475,
          0.11861169496121562,
          0.09880304043225947,
          0.07923232193363072,
          0.06199333354428854,
          0.04137548379729523,
          0.03079842449327362,
          0.02468266202894785,
          0.008633386194615927,
          0.006021547753419064,
          0.002945521906273776,
          2.0195897357401253e-17
         ]
        },
        {
         "marker": {
          "line": {
           "width": 2
          },
          "size": 10
         },
         "mode": "lines+markers",
         "name": "Column 5",
         "type": "scatter",
         "x": [
          0,
          1,
          2,
          3,
          4,
          5,
          6,
          7,
          8,
          9,
          10,
          11,
          12,
          13,
          14,
          15,
          16,
          17,
          18,
          19
         ],
         "y": [
          1.30945700219731,
          1.1346386090926628,
          0.9350098130613803,
          0.7444698780821956,
          0.41005320608962853,
          0.2970734895263253,
          0.24907595879058,
          0.2006140501412714,
          0.1573978330694131,
          0.12150335056097432,
          0.0697914353979292,
          0.057912539992917296,
          0.04632241167966504,
          0.03618566426236842,
          0.013930097010553347,
          0.006391361953009468,
          0.003798383762323017,
          0.0025566283258721223,
          0.0018171851664654153,
          1.072160253917176e-17
         ]
        },
        {
         "marker": {
          "line": {
           "width": 2
          },
          "size": 10
         },
         "mode": "lines+markers",
         "name": "Column 6",
         "type": "scatter",
         "x": [
          0,
          1,
          2,
          3,
          4,
          5,
          6,
          7,
          8,
          9,
          10,
          11,
          12,
          13,
          14,
          15,
          16,
          17,
          18,
          19
         ],
         "y": [
          1.309457002197311,
          1.1346386090926635,
          0.9350098130613813,
          0.7444698780821958,
          0.5799028053465233,
          0.3151703291753827,
          0.22763708068581281,
          0.19042636378193428,
          0.15314170427915333,
          0.12003623041420333,
          0.0926080124500499,
          0.07077420575517226,
          0.040462430522601754,
          0.016752522851891643,
          0.011832174086209643,
          0.006790894549852178,
          0.005015270507805155,
          0.003911003467734841,
          0.0011590875296938693,
          5.606760096239059e-18
         ]
        },
        {
         "marker": {
          "line": {
           "width": 2
          },
          "size": 10
         },
         "mode": "lines+markers",
         "name": "Column 7",
         "type": "scatter",
         "x": [
          0,
          1,
          2,
          3,
          4,
          5,
          6,
          7,
          8,
          9,
          10,
          11,
          12,
          13,
          14,
          15,
          16,
          17,
          18
         ],
         "y": [
          1.3094570021973102,
          1.134638609092663,
          0.9350098130613808,
          0.7444698780821953,
          0.5799028053465232,
          0.4457181539774192,
          0.24033273022627957,
          0.17327476056313765,
          0.14475932582801906,
          0.11631293488762544,
          0.09111804934800292,
          0.07027390155543353,
          0.03100084188382363,
          0.021926140502065917,
          0.009927444985594999,
          0.007021321320705992,
          0.0054135388274401276,
          0.00359533391975801,
          4.292185323612449e-17
         ]
        },
        {
         "marker": {
          "line": {
           "width": 2
          },
          "size": 10
         },
         "mode": "lines+markers",
         "name": "Column 8",
         "type": "scatter",
         "x": [
          0,
          1,
          2,
          3,
          4,
          5,
          6,
          7,
          8,
          9,
          10,
          11,
          12,
          13,
          14,
          15,
          16,
          17,
          18,
          19
         ],
         "y": [
          1.3094570021973098,
          1.1346386090926623,
          0.9350098130613801,
          0.7444698780821947,
          0.5799028053465224,
          0.4457181539774184,
          0.3398818065681585,
          0.18242247995967745,
          0.1313870703756364,
          0.10968155435509785,
          0.08808328378256951,
          0.03982629130271071,
          0.028266519591496283,
          0.024289734532696915,
          0.019898382689629145,
          0.012225045844896178,
          0.002969077194073649,
          0.0015412596144537402,
          0.0009874197492120514,
          6.812930742986125e-18
         ]
        },
        {
         "marker": {
          "line": {
           "width": 2
          },
          "size": 10
         },
         "mode": "lines+markers",
         "name": "Column 9",
         "type": "scatter",
         "x": [
          0,
          1,
          2,
          3,
          4,
          5,
          6,
          7,
          8,
          9,
          10,
          11,
          12,
          13,
          14,
          15,
          16,
          17,
          18,
          19
         ],
         "y": [
          1.309457002197309,
          1.134638609092662,
          0.9350098130613796,
          0.7444698780821944,
          0.5799028053465225,
          0.4457181539774186,
          0.33988180656815853,
          0.25798434524071007,
          0.13809855436158197,
          0.09940451768316476,
          0.04788914706273415,
          0.034311641681947884,
          0.023010431259712787,
          0.017446813798314354,
          0.012465654776977505,
          0.009575451148507264,
          0.006984887789903289,
          0.005374955572812644,
          0.0010125214933989315,
          4.22125160045514e-18
         ]
        },
        {
         "marker": {
          "line": {
           "width": 2
          },
          "size": 10
         },
         "mode": "lines+markers",
         "name": "Column 10",
         "type": "scatter",
         "x": [
          0,
          1,
          2,
          3,
          4,
          5,
          6,
          7,
          8,
          9
         ],
         "y": [
          1.3094570021973098,
          1.1346386090926626,
          0.9350098130613801,
          0.7444698780821946,
          0.5799028053465222,
          0.44571815397741826,
          0.3398818065681582,
          0.25798434524070996,
          0.195300848522267,
          3.621193111247332e-16
         ]
        },
        {
         "marker": {
          "line": {
           "width": 2
          },
          "size": 10
         },
         "mode": "lines+markers",
         "name": "Column 11",
         "type": "scatter",
         "x": [
          0,
          1,
          2,
          3,
          4,
          5,
          6,
          7,
          8,
          9,
          10,
          11,
          12,
          13,
          14,
          15,
          16,
          17,
          18,
          19
         ],
         "y": [
          1.3094570021973102,
          1.1346386090926626,
          0.9350098130613801,
          0.7444698780821947,
          0.5799028053465225,
          0.4457181539774185,
          0.3398818065681583,
          0.25798434524070996,
          0.13809855436158194,
          0.09940451768316477,
          0.04788914706273412,
          0.03431164168194795,
          0.02301043125971276,
          0.017446813798314392,
          0.012465654776977506,
          0.009575451148507282,
          0.006984887789903292,
          0.005374955572812644,
          0.0010125214933989382,
          8.943641254129158e-18
         ]
        },
        {
         "marker": {
          "line": {
           "width": 2
          },
          "size": 10
         },
         "mode": "lines+markers",
         "name": "Column 12",
         "type": "scatter",
         "x": [
          0,
          1,
          2,
          3,
          4,
          5,
          6,
          7,
          8,
          9,
          10,
          11,
          12,
          13,
          14,
          15,
          16,
          17,
          18,
          19
         ],
         "y": [
          1.3094570021973102,
          1.1346386090926628,
          0.9350098130613805,
          0.7444698780821952,
          0.5799028053465229,
          0.44571815397741893,
          0.3398818065681587,
          0.18242247995967792,
          0.13138707037563657,
          0.10968155435509802,
          0.08808328378256962,
          0.039826291302710926,
          0.028266519591496318,
          0.024289734532696963,
          0.019898382689629186,
          0.012225045844896249,
          0.0029690771940736526,
          0.0015412596144537387,
          0.0009874197492120477,
          1.5637265328865128e-17
         ]
        },
        {
         "marker": {
          "line": {
           "width": 2
          },
          "size": 10
         },
         "mode": "lines+markers",
         "name": "Column 13",
         "type": "scatter",
         "x": [
          0,
          1,
          2,
          3,
          4,
          5,
          6,
          7,
          8,
          9,
          10,
          11,
          12,
          13,
          14,
          15,
          16,
          17,
          18
         ],
         "y": [
          1.3094570021973104,
          1.134638609092663,
          0.9350098130613806,
          0.7444698780821951,
          0.5799028053465228,
          0.4457181539774188,
          0.2403327302262796,
          0.17327476056313756,
          0.144759325828019,
          0.11631293488762538,
          0.09111804934800284,
          0.0702739015554334,
          0.031000841883823606,
          0.021926140502065882,
          0.009927444985595002,
          0.007021321320706002,
          0.005413538827440129,
          0.0035953339197580024,
          1.3542167545502928e-17
         ]
        },
        {
         "marker": {
          "line": {
           "width": 2
          },
          "size": 10
         },
         "mode": "lines+markers",
         "name": "Column 14",
         "type": "scatter",
         "x": [
          0,
          1,
          2,
          3,
          4,
          5,
          6,
          7,
          8,
          9,
          10,
          11,
          12,
          13,
          14,
          15,
          16,
          17,
          18,
          19
         ],
         "y": [
          1.30945700219731,
          1.134638609092663,
          0.9350098130613808,
          0.7444698780821951,
          0.5799028053465227,
          0.3151703291753823,
          0.22763708068581268,
          0.19042636378193417,
          0.1531417042791533,
          0.12003623041420326,
          0.0926080124500498,
          0.07077420575517215,
          0.040462430522601726,
          0.01675252285189158,
          0.011832174086209627,
          0.006790894549852172,
          0.005015270507805141,
          0.0039110034677348375,
          0.0011590875296938678,
          6.072865787065328e-18
         ]
        },
        {
         "marker": {
          "line": {
           "width": 2
          },
          "size": 10
         },
         "mode": "lines+markers",
         "name": "Column 15",
         "type": "scatter",
         "x": [
          0,
          1,
          2,
          3,
          4,
          5,
          6,
          7,
          8,
          9,
          10,
          11,
          12,
          13,
          14,
          15,
          16,
          17,
          18,
          19
         ],
         "y": [
          1.3094570021973102,
          1.1346386090926623,
          0.9350098130613801,
          0.7444698780821947,
          0.4100532060896289,
          0.2970734895263247,
          0.24907595879057964,
          0.2006140501412711,
          0.15739783306941288,
          0.12150335056097422,
          0.06979143539792908,
          0.05791253999291717,
          0.04632241167966495,
          0.03618566426236836,
          0.013930097010553354,
          0.0063913619530094916,
          0.003798383762323017,
          0.0025566283258721258,
          0.0018171851664654215,
          6.4579290155625076e-18
         ]
        },
        {
         "marker": {
          "line": {
           "width": 2
          },
          "size": 10
         },
         "mode": "lines+markers",
         "name": "Column 16",
         "type": "scatter",
         "x": [
          0,
          1,
          2,
          3,
          4,
          5,
          6,
          7,
          8,
          9,
          10,
          11,
          12,
          13,
          14,
          15,
          16,
          17,
          18
         ],
         "y": [
          1.3094570021973093,
          1.134638609092662,
          0.9350098130613799,
          0.526419699181042,
          0.3833360573969372,
          0.32263346647073365,
          0.26053423110905793,
          0.20474587190036467,
          0.11861169496121554,
          0.0988030404322594,
          0.07923232193363067,
          0.06199333354428856,
          0.04137548379729518,
          0.030798424493273642,
          0.02468266202894785,
          0.008633386194615903,
          0.006021547753419061,
          0.0029455219062737787,
          1.713044379034517e-17
         ]
        },
        {
         "marker": {
          "line": {
           "width": 2
          },
          "size": 10
         },
         "mode": "lines+markers",
         "name": "Column 17",
         "type": "scatter",
         "x": [
          0,
          1,
          2,
          3,
          4,
          5,
          6,
          7,
          8,
          9,
          10,
          11,
          12,
          13,
          14,
          15,
          16
         ],
         "y": [
          1.30945700219731,
          1.1346386090926621,
          0.6611517792916685,
          0.48546565489489524,
          0.4111664874840502,
          0.33345559020690735,
          0.19620433098173876,
          0.16461193036915583,
          0.13264267684861375,
          0.09015150086717776,
          0.06758243756087194,
          0.05442027854490475,
          0.042690704670266505,
          0.027968670963727828,
          0.022590175464586845,
          0.01775532440373875,
          4.5366642720123296e-17
         ]
        },
        {
         "marker": {
          "line": {
           "width": 2
          },
          "size": 10
         },
         "mode": "lines+markers",
         "name": "Column 18",
         "type": "scatter",
         "x": [
          0,
          1,
          2,
          3,
          4,
          5,
          6,
          7,
          8,
          9,
          10,
          11,
          12,
          13,
          14,
          15,
          16,
          17,
          18,
          19
         ],
         "y": [
          1.3094570021973093,
          0.8023106546854922,
          0.5967053402813665,
          0.5103901200425867,
          0.3088604875683067,
          0.26260751911568675,
          0.18493524528188918,
          0.14064406114878464,
          0.11436984543418982,
          0.07639628475946215,
          0.062337847825033134,
          0.04502018434832849,
          0.03422707777686284,
          0.027189712245800267,
          0.018838985098794937,
          0.015054596541427705,
          0.010994221056798916,
          0.0027826688794351374,
          0.0013979645501852173,
          8.521798595029479e-18
         ]
        },
        {
         "marker": {
          "line": {
           "width": 2
          },
          "size": 10
         },
         "mode": "lines+markers",
         "name": "Column 19",
         "type": "scatter",
         "x": [
          0,
          1,
          2,
          3,
          4,
          5,
          6,
          7,
          8,
          9,
          10,
          11,
          12,
          13,
          14,
          15,
          16,
          17,
          18
         ],
         "y": [
          0.9259259259259255,
          0.7012968800913816,
          0.445032129649801,
          0.33561270744624166,
          0.26296559974293,
          0.1835162761108464,
          0.14004576302425858,
          0.10934686088628111,
          0.0784523760306651,
          0.05980700355306869,
          0.04640783602067037,
          0.03371179494700702,
          0.02564778184981724,
          0.019804674706149078,
          0.014490868576156467,
          0.011007303123163063,
          0.008469329038443104,
          0.00622695878948768,
          3.606211141183728e-17
         ]
        }
       ],
       "layout": {
        "shapes": [
         {
          "line": {
           "color": "red",
           "dash": "dash",
           "width": 1
          },
          "type": "line",
          "x0": 0,
          "x1": 1,
          "xref": "x domain",
          "y0": 0.0001,
          "y1": 0.0001,
          "yref": "y"
         }
        ],
        "template": {
         "data": {
          "bar": [
           {
            "error_x": {
             "color": "#2a3f5f"
            },
            "error_y": {
             "color": "#2a3f5f"
            },
            "marker": {
             "line": {
              "color": "#E5ECF6",
              "width": 0.5
             },
             "pattern": {
              "fillmode": "overlay",
              "size": 10,
              "solidity": 0.2
             }
            },
            "type": "bar"
           }
          ],
          "barpolar": [
           {
            "marker": {
             "line": {
              "color": "#E5ECF6",
              "width": 0.5
             },
             "pattern": {
              "fillmode": "overlay",
              "size": 10,
              "solidity": 0.2
             }
            },
            "type": "barpolar"
           }
          ],
          "carpet": [
           {
            "aaxis": {
             "endlinecolor": "#2a3f5f",
             "gridcolor": "white",
             "linecolor": "white",
             "minorgridcolor": "white",
             "startlinecolor": "#2a3f5f"
            },
            "baxis": {
             "endlinecolor": "#2a3f5f",
             "gridcolor": "white",
             "linecolor": "white",
             "minorgridcolor": "white",
             "startlinecolor": "#2a3f5f"
            },
            "type": "carpet"
           }
          ],
          "choropleth": [
           {
            "colorbar": {
             "outlinewidth": 0,
             "ticks": ""
            },
            "type": "choropleth"
           }
          ],
          "contour": [
           {
            "colorbar": {
             "outlinewidth": 0,
             "ticks": ""
            },
            "colorscale": [
             [
              0,
              "#0d0887"
             ],
             [
              0.1111111111111111,
              "#46039f"
             ],
             [
              0.2222222222222222,
              "#7201a8"
             ],
             [
              0.3333333333333333,
              "#9c179e"
             ],
             [
              0.4444444444444444,
              "#bd3786"
             ],
             [
              0.5555555555555556,
              "#d8576b"
             ],
             [
              0.6666666666666666,
              "#ed7953"
             ],
             [
              0.7777777777777778,
              "#fb9f3a"
             ],
             [
              0.8888888888888888,
              "#fdca26"
             ],
             [
              1,
              "#f0f921"
             ]
            ],
            "type": "contour"
           }
          ],
          "contourcarpet": [
           {
            "colorbar": {
             "outlinewidth": 0,
             "ticks": ""
            },
            "type": "contourcarpet"
           }
          ],
          "heatmap": [
           {
            "colorbar": {
             "outlinewidth": 0,
             "ticks": ""
            },
            "colorscale": [
             [
              0,
              "#0d0887"
             ],
             [
              0.1111111111111111,
              "#46039f"
             ],
             [
              0.2222222222222222,
              "#7201a8"
             ],
             [
              0.3333333333333333,
              "#9c179e"
             ],
             [
              0.4444444444444444,
              "#bd3786"
             ],
             [
              0.5555555555555556,
              "#d8576b"
             ],
             [
              0.6666666666666666,
              "#ed7953"
             ],
             [
              0.7777777777777778,
              "#fb9f3a"
             ],
             [
              0.8888888888888888,
              "#fdca26"
             ],
             [
              1,
              "#f0f921"
             ]
            ],
            "type": "heatmap"
           }
          ],
          "heatmapgl": [
           {
            "colorbar": {
             "outlinewidth": 0,
             "ticks": ""
            },
            "colorscale": [
             [
              0,
              "#0d0887"
             ],
             [
              0.1111111111111111,
              "#46039f"
             ],
             [
              0.2222222222222222,
              "#7201a8"
             ],
             [
              0.3333333333333333,
              "#9c179e"
             ],
             [
              0.4444444444444444,
              "#bd3786"
             ],
             [
              0.5555555555555556,
              "#d8576b"
             ],
             [
              0.6666666666666666,
              "#ed7953"
             ],
             [
              0.7777777777777778,
              "#fb9f3a"
             ],
             [
              0.8888888888888888,
              "#fdca26"
             ],
             [
              1,
              "#f0f921"
             ]
            ],
            "type": "heatmapgl"
           }
          ],
          "histogram": [
           {
            "marker": {
             "pattern": {
              "fillmode": "overlay",
              "size": 10,
              "solidity": 0.2
             }
            },
            "type": "histogram"
           }
          ],
          "histogram2d": [
           {
            "colorbar": {
             "outlinewidth": 0,
             "ticks": ""
            },
            "colorscale": [
             [
              0,
              "#0d0887"
             ],
             [
              0.1111111111111111,
              "#46039f"
             ],
             [
              0.2222222222222222,
              "#7201a8"
             ],
             [
              0.3333333333333333,
              "#9c179e"
             ],
             [
              0.4444444444444444,
              "#bd3786"
             ],
             [
              0.5555555555555556,
              "#d8576b"
             ],
             [
              0.6666666666666666,
              "#ed7953"
             ],
             [
              0.7777777777777778,
              "#fb9f3a"
             ],
             [
              0.8888888888888888,
              "#fdca26"
             ],
             [
              1,
              "#f0f921"
             ]
            ],
            "type": "histogram2d"
           }
          ],
          "histogram2dcontour": [
           {
            "colorbar": {
             "outlinewidth": 0,
             "ticks": ""
            },
            "colorscale": [
             [
              0,
              "#0d0887"
             ],
             [
              0.1111111111111111,
              "#46039f"
             ],
             [
              0.2222222222222222,
              "#7201a8"
             ],
             [
              0.3333333333333333,
              "#9c179e"
             ],
             [
              0.4444444444444444,
              "#bd3786"
             ],
             [
              0.5555555555555556,
              "#d8576b"
             ],
             [
              0.6666666666666666,
              "#ed7953"
             ],
             [
              0.7777777777777778,
              "#fb9f3a"
             ],
             [
              0.8888888888888888,
              "#fdca26"
             ],
             [
              1,
              "#f0f921"
             ]
            ],
            "type": "histogram2dcontour"
           }
          ],
          "mesh3d": [
           {
            "colorbar": {
             "outlinewidth": 0,
             "ticks": ""
            },
            "type": "mesh3d"
           }
          ],
          "parcoords": [
           {
            "line": {
             "colorbar": {
              "outlinewidth": 0,
              "ticks": ""
             }
            },
            "type": "parcoords"
           }
          ],
          "pie": [
           {
            "automargin": true,
            "type": "pie"
           }
          ],
          "scatter": [
           {
            "marker": {
             "colorbar": {
              "outlinewidth": 0,
              "ticks": ""
             }
            },
            "type": "scatter"
           }
          ],
          "scatter3d": [
           {
            "line": {
             "colorbar": {
              "outlinewidth": 0,
              "ticks": ""
             }
            },
            "marker": {
             "colorbar": {
              "outlinewidth": 0,
              "ticks": ""
             }
            },
            "type": "scatter3d"
           }
          ],
          "scattercarpet": [
           {
            "marker": {
             "colorbar": {
              "outlinewidth": 0,
              "ticks": ""
             }
            },
            "type": "scattercarpet"
           }
          ],
          "scattergeo": [
           {
            "marker": {
             "colorbar": {
              "outlinewidth": 0,
              "ticks": ""
             }
            },
            "type": "scattergeo"
           }
          ],
          "scattergl": [
           {
            "marker": {
             "colorbar": {
              "outlinewidth": 0,
              "ticks": ""
             }
            },
            "type": "scattergl"
           }
          ],
          "scattermapbox": [
           {
            "marker": {
             "colorbar": {
              "outlinewidth": 0,
              "ticks": ""
             }
            },
            "type": "scattermapbox"
           }
          ],
          "scatterpolar": [
           {
            "marker": {
             "colorbar": {
              "outlinewidth": 0,
              "ticks": ""
             }
            },
            "type": "scatterpolar"
           }
          ],
          "scatterpolargl": [
           {
            "marker": {
             "colorbar": {
              "outlinewidth": 0,
              "ticks": ""
             }
            },
            "type": "scatterpolargl"
           }
          ],
          "scatterternary": [
           {
            "marker": {
             "colorbar": {
              "outlinewidth": 0,
              "ticks": ""
             }
            },
            "type": "scatterternary"
           }
          ],
          "surface": [
           {
            "colorbar": {
             "outlinewidth": 0,
             "ticks": ""
            },
            "colorscale": [
             [
              0,
              "#0d0887"
             ],
             [
              0.1111111111111111,
              "#46039f"
             ],
             [
              0.2222222222222222,
              "#7201a8"
             ],
             [
              0.3333333333333333,
              "#9c179e"
             ],
             [
              0.4444444444444444,
              "#bd3786"
             ],
             [
              0.5555555555555556,
              "#d8576b"
             ],
             [
              0.6666666666666666,
              "#ed7953"
             ],
             [
              0.7777777777777778,
              "#fb9f3a"
             ],
             [
              0.8888888888888888,
              "#fdca26"
             ],
             [
              1,
              "#f0f921"
             ]
            ],
            "type": "surface"
           }
          ],
          "table": [
           {
            "cells": {
             "fill": {
              "color": "#EBF0F8"
             },
             "line": {
              "color": "white"
             }
            },
            "header": {
             "fill": {
              "color": "#C8D4E3"
             },
             "line": {
              "color": "white"
             }
            },
            "type": "table"
           }
          ]
         },
         "layout": {
          "annotationdefaults": {
           "arrowcolor": "#2a3f5f",
           "arrowhead": 0,
           "arrowwidth": 1
          },
          "autotypenumbers": "strict",
          "coloraxis": {
           "colorbar": {
            "outlinewidth": 0,
            "ticks": ""
           }
          },
          "colorscale": {
           "diverging": [
            [
             0,
             "#8e0152"
            ],
            [
             0.1,
             "#c51b7d"
            ],
            [
             0.2,
             "#de77ae"
            ],
            [
             0.3,
             "#f1b6da"
            ],
            [
             0.4,
             "#fde0ef"
            ],
            [
             0.5,
             "#f7f7f7"
            ],
            [
             0.6,
             "#e6f5d0"
            ],
            [
             0.7,
             "#b8e186"
            ],
            [
             0.8,
             "#7fbc41"
            ],
            [
             0.9,
             "#4d9221"
            ],
            [
             1,
             "#276419"
            ]
           ],
           "sequential": [
            [
             0,
             "#0d0887"
            ],
            [
             0.1111111111111111,
             "#46039f"
            ],
            [
             0.2222222222222222,
             "#7201a8"
            ],
            [
             0.3333333333333333,
             "#9c179e"
            ],
            [
             0.4444444444444444,
             "#bd3786"
            ],
            [
             0.5555555555555556,
             "#d8576b"
            ],
            [
             0.6666666666666666,
             "#ed7953"
            ],
            [
             0.7777777777777778,
             "#fb9f3a"
            ],
            [
             0.8888888888888888,
             "#fdca26"
            ],
            [
             1,
             "#f0f921"
            ]
           ],
           "sequentialminus": [
            [
             0,
             "#0d0887"
            ],
            [
             0.1111111111111111,
             "#46039f"
            ],
            [
             0.2222222222222222,
             "#7201a8"
            ],
            [
             0.3333333333333333,
             "#9c179e"
            ],
            [
             0.4444444444444444,
             "#bd3786"
            ],
            [
             0.5555555555555556,
             "#d8576b"
            ],
            [
             0.6666666666666666,
             "#ed7953"
            ],
            [
             0.7777777777777778,
             "#fb9f3a"
            ],
            [
             0.8888888888888888,
             "#fdca26"
            ],
            [
             1,
             "#f0f921"
            ]
           ]
          },
          "colorway": [
           "#636efa",
           "#EF553B",
           "#00cc96",
           "#ab63fa",
           "#FFA15A",
           "#19d3f3",
           "#FF6692",
           "#B6E880",
           "#FF97FF",
           "#FECB52"
          ],
          "font": {
           "color": "#2a3f5f"
          },
          "geo": {
           "bgcolor": "white",
           "lakecolor": "white",
           "landcolor": "#E5ECF6",
           "showlakes": true,
           "showland": true,
           "subunitcolor": "white"
          },
          "hoverlabel": {
           "align": "left"
          },
          "hovermode": "closest",
          "mapbox": {
           "style": "light"
          },
          "paper_bgcolor": "white",
          "plot_bgcolor": "#E5ECF6",
          "polar": {
           "angularaxis": {
            "gridcolor": "white",
            "linecolor": "white",
            "ticks": ""
           },
           "bgcolor": "#E5ECF6",
           "radialaxis": {
            "gridcolor": "white",
            "linecolor": "white",
            "ticks": ""
           }
          },
          "scene": {
           "xaxis": {
            "backgroundcolor": "#E5ECF6",
            "gridcolor": "white",
            "gridwidth": 2,
            "linecolor": "white",
            "showbackground": true,
            "ticks": "",
            "zerolinecolor": "white"
           },
           "yaxis": {
            "backgroundcolor": "#E5ECF6",
            "gridcolor": "white",
            "gridwidth": 2,
            "linecolor": "white",
            "showbackground": true,
            "ticks": "",
            "zerolinecolor": "white"
           },
           "zaxis": {
            "backgroundcolor": "#E5ECF6",
            "gridcolor": "white",
            "gridwidth": 2,
            "linecolor": "white",
            "showbackground": true,
            "ticks": "",
            "zerolinecolor": "white"
           }
          },
          "shapedefaults": {
           "line": {
            "color": "#2a3f5f"
           }
          },
          "ternary": {
           "aaxis": {
            "gridcolor": "white",
            "linecolor": "white",
            "ticks": ""
           },
           "baxis": {
            "gridcolor": "white",
            "linecolor": "white",
            "ticks": ""
           },
           "bgcolor": "#E5ECF6",
           "caxis": {
            "gridcolor": "white",
            "linecolor": "white",
            "ticks": ""
           }
          },
          "title": {
           "x": 0.05
          },
          "xaxis": {
           "automargin": true,
           "gridcolor": "white",
           "linecolor": "white",
           "ticks": "",
           "title": {
            "standoff": 15
           },
           "zerolinecolor": "white",
           "zerolinewidth": 2
          },
          "yaxis": {
           "automargin": true,
           "gridcolor": "white",
           "linecolor": "white",
           "ticks": "",
           "title": {
            "standoff": 15
           },
           "zerolinecolor": "white",
           "zerolinewidth": 2
          }
         }
        },
        "title": {
         "text": "Convergence plots for Conjugate Gradient"
        },
        "xaxis": {
         "title": {
          "text": "Iteration"
         }
        },
        "yaxis": {
         "title": {
          "text": "Residue"
         }
        }
       }
      }
     },
     "metadata": {},
     "output_type": "display_data"
    }
   ],
   "source": [
    "# Visualizing convergence for Conjugate Gradient\n",
    "viz_conv(meta_overall, name=\"Conjugate Gradient\")"
   ]
  }
 ],
 "metadata": {
  "interpreter": {
   "hash": "729067e3f186519f299942881b6f10386ef5caf46ad7ee6315664a9c9f4227a9"
  },
  "kernelspec": {
   "display_name": "Python 3.9.5 64-bit (system)",
   "language": "python",
   "name": "python3"
  },
  "language_info": {
   "codemirror_mode": {
    "name": "ipython",
    "version": 3
   },
   "file_extension": ".py",
   "mimetype": "text/x-python",
   "name": "python",
   "nbconvert_exporter": "python",
   "pygments_lexer": "ipython3",
   "version": "3.9.5"
  },
  "orig_nbformat": 4
 },
 "nbformat": 4,
 "nbformat_minor": 2
}
