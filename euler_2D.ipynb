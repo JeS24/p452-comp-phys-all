{
  "cells": [
    {
      "cell_type": "code",
      "execution_count": 1,
      "metadata": {
        "colab": {},
        "colab_type": "code",
        "id": "ybJXEqtCVkqW"
      },
      "outputs": [],
      "source": [
        "import numpy as np\n",
        "import matplotlib.pyplot as plt\n",
        "from matplotlib import animation\n",
        "\n",
        "from kurganov_tadmor import *\n",
        "import utils"
      ]
    },
    {
      "cell_type": "markdown",
      "metadata": {
        "colab_type": "text",
        "id": "44Gh42CV-gbT"
      },
      "source": [
        "### Equation"
      ]
    },
    {
      "cell_type": "markdown",
      "metadata": {
        "colab_type": "text",
        "id": "oH4PTnRyVLFw"
      },
      "source": [
        "We solve the Euler equations in 2D \n",
        "\n",
        "$$\n",
        "\\begin{equation} \n",
        "\\partial_t \n",
        "\\begin{bmatrix} \\rho \\\\ \\rho u_x \\\\ \\rho u_y \\\\ E \\end{bmatrix} \n",
        "+ \n",
        "\\partial_x \n",
        "\\begin{bmatrix} \\rho u_x \\\\ \\rho u_x^2 + p \\\\  \\rho u_x u_y \\\\ (E+p) u_x \\end{bmatrix} \n",
        "+ \n",
        "\\partial_y \n",
        "\\begin{bmatrix} \\rho u_y \\\\ \\rho u_y u_x \\\\  \\rho u_y^2 +p \\\\ (E+p) u_y \\end{bmatrix} \n",
        "= 0 \n",
        "\\end{equation}\n",
        "$$\n",
        "\n",
        "with the equation of state\n",
        "$$\n",
        "\\begin{equation}\n",
        "p = (\\gamma-1) \\left(E-\\frac{1}{2} \\rho (u_x^2 - u_y^2) \\right), \\qquad \\gamma=1.4\n",
        "\\end{equation}\n",
        "$$\n",
        "\n",
        "on the domain $(x,y,t)\\in([0,1]\\times[0,1]\\times[0,0.1])$ with initial data for a *2D Riemann problem*:\n",
        "$$\n",
        "\\begin{equation}\n",
        "(\\rho, v, p)_{t=0} = \n",
        "\\begin{cases}\n",
        "(1,0,1) & \\text{if} & 0<x\\leq0.5 \\\\\n",
        "(0.125, 0, 0.1) & \\text{if} & 0.5<x<1\n",
        "\\end{cases}\n",
        "\\end{equation}\n",
        "$$\n",
        "\n",
        "and Dirichlet boundary data set by initial data on each boundary. The solution is computed using a 200 $\\times$ 200 mesh and CFL number 0.75."
      ]
    },
    {
      "cell_type": "code",
      "execution_count": 2,
      "metadata": {
        "colab": {},
        "colab_type": "code",
        "id": "KSccyRVRVLFz"
      },
      "outputs": [],
      "source": [
        "pars = Pars2d(\n",
        "    x_init=0., x_final=1.,\n",
        "    y_init=0., y_final=1.,\n",
        "    J=200, K=200,\n",
        "    t_final=0.4,\n",
        "    dt_out=0.005,\n",
        "    cfl=0.475,\n",
        "    scheme=\"fd2\",)\n",
        "pars.gamma = 1.4"
      ]
    },
    {
      "cell_type": "code",
      "execution_count": 3,
      "metadata": {
        "colab": {},
        "colab_type": "code",
        "id": "ONfF8EXaVLF_"
      },
      "outputs": [],
      "source": [
        "# Euler equation\n",
        "class Euler2d(Equation2d):\n",
        "    def pressure(self, u):\n",
        "        return (self.gamma - 1.0) * (\n",
        "            u[:, :, 3] - 0.5 * (u[:, :, 1] ** 2 + u[:, :, 2] ** 2) / u[:, :, 0]\n",
        "        )\n",
        "\n",
        "    def euler_data(self):\n",
        "        gamma = self.gamma\n",
        "\n",
        "        p_one = 1.5\n",
        "        p_two = 0.3\n",
        "        p_three = 0.029\n",
        "        p_four = 0.3\n",
        "\n",
        "        upper_right, upper_left, lower_right, lower_left = np.ones((4, 4))\n",
        "\n",
        "        upper_right[0] = 1.5\n",
        "        upper_right[1] = 0.0\n",
        "        upper_right[2] = 0.0\n",
        "        upper_right[3] = (\n",
        "            p_one / (gamma - 1.0)\n",
        "            + 0.5 * (upper_right[1] ** 2 + upper_right[2] ** 2) / upper_right[0]\n",
        "        )\n",
        "\n",
        "        upper_left[0] = 0.5323\n",
        "        upper_left[1] = 1.206 * upper_left[0]\n",
        "        upper_left[2] = 0.0\n",
        "        upper_left[3] = ( p_two / (gamma - 1.0)\n",
        "            + 0.5 * (upper_left[1] ** 2 + upper_left[2] ** 2) / upper_left[0] )\n",
        "\n",
        "        lower_right[0] = 0.5323\n",
        "        lower_right[1] = 0.0\n",
        "        lower_right[2] = 1.206 * lower_right[0]\n",
        "        lower_right[3] = ( p_four / (gamma - 1.0)\n",
        "            + 0.5 * (lower_right[1]**2 + lower_right[2]**2) / lower_right[0] )\n",
        "\n",
        "        lower_left[0] = 0.138\n",
        "        lower_left[1] = 1.206 * lower_left[0]\n",
        "        lower_left[2] = 1.206 * lower_left[0]\n",
        "        lower_left[3] = ( p_three / (gamma - 1.0)\n",
        "          + 0.5 * (lower_left[1] ** 2 + lower_left[2] ** 2) / lower_left[0] )\n",
        "\n",
        "        return upper_right, upper_left, lower_right, lower_left\n",
        "\n",
        "\n",
        "    def initial_data(self):\n",
        "        u = np.empty((self.J + 4, self.K + 4, 4))\n",
        "        midJ = int(self.J / 2) + 2\n",
        "        midK = int(self.K / 2) + 2\n",
        "\n",
        "        one_matrix = np.ones(u[midJ:, midK:].shape)\n",
        "        upper_right, upper_left, lower_right, lower_left = self.euler_data()\n",
        "\n",
        "        u[midJ:, midK:] = upper_right * one_matrix\n",
        "        u[:midJ, midK:] = upper_left * one_matrix\n",
        "        u[midJ:, :midK] = lower_right * one_matrix\n",
        "        u[:midJ, :midK] = lower_left * one_matrix\n",
        "        return u\n",
        "\n",
        "    def boundary_conditions(self, u):\n",
        "\n",
        "        upper_right, upper_left, lower_right, lower_left = self.euler_data()\n",
        "\n",
        "        if self.odd:\n",
        "            j = slice(1, -2)\n",
        "            u[j, 0] = u[j, 1]\n",
        "            u[j, -2] = u[j, -3]\n",
        "            u[j, -1] = u[j, -3]\n",
        "\n",
        "            u[0, j] = u[1, j]\n",
        "            u[-2, j] = u[-3, j]\n",
        "            u[-1, j] = u[-3, j]\n",
        "\n",
        "            # one\n",
        "            u[-2, -2] = upper_right\n",
        "            u[-1, -2] = upper_right\n",
        "            u[-2, -1] = upper_right\n",
        "            u[-1, -1] = upper_right\n",
        "\n",
        "            # two\n",
        "            u[0, -2] = upper_left\n",
        "            u[0, -1] = upper_left\n",
        "\n",
        "            # three\n",
        "            u[0, 0] = lower_left\n",
        "            u[0, 1] = lower_left\n",
        "            u[1, 0] = lower_left\n",
        "            u[1, 1] = lower_left\n",
        "\n",
        "            # four\n",
        "            u[-2, 0] = lower_right\n",
        "            u[-1, 0] = lower_right\n",
        "            u[-2, 1] = lower_right\n",
        "            u[-1, 1] = lower_right\n",
        "\n",
        "        else:\n",
        "\n",
        "            j = slice(2, -1)\n",
        "            u[j, 0] = u[j, 2]\n",
        "            u[j, 1] = u[j, 2]\n",
        "            u[j, -1] = u[j, -2]\n",
        "\n",
        "            u[0, j] = u[2, j]\n",
        "            u[1, j] = u[2, j]\n",
        "            u[-1, j] = u[-2, j]\n",
        "\n",
        "            # one\n",
        "            u[-1, -2] = upper_right\n",
        "            u[-1, -1] = upper_right\n",
        "\n",
        "            # two\n",
        "            u[0, -2] = upper_left\n",
        "            u[0, -1] = upper_left\n",
        "            u[1, -2] = upper_left\n",
        "            u[1, -1] = upper_left\n",
        "\n",
        "            # three\n",
        "            u[0, 0] = lower_left\n",
        "            u[0, 1] = lower_left\n",
        "            u[1, 0] = lower_left\n",
        "            u[1, 1] = lower_left\n",
        "\n",
        "            # four\n",
        "            u[-1, 0] = lower_right\n",
        "            u[-1, 1] = lower_right\n",
        "\n",
        "    def flux_x(self, u):\n",
        "        f = np.empty_like(u)\n",
        "\n",
        "        p = self.pressure(u)\n",
        "\n",
        "        f[:, :, 0] = u[:, :, 1]\n",
        "        f[:, :, 1] = u[:, :, 1] ** 2 / u[:, :, 0] + p\n",
        "        f[:, :, 2] = u[:, :, 1] * u[:, :, 2] / u[:, :, 0]\n",
        "        f[:, :, 3] = (u[:, :, 3] + p) * u[:, :, 1] / u[:, :, 0]\n",
        "\n",
        "        return f\n",
        "\n",
        "    def flux_y(self, u):\n",
        "        g = np.empty_like(u)\n",
        "\n",
        "        p = self.pressure(u)\n",
        "\n",
        "        g[:, :, 0] = u[:, :, 2]\n",
        "        g[:, :, 1] = u[:, :, 1] * u[:, :, 2] / u[:, :, 0]\n",
        "        g[:, :, 2] = u[:, :, 2] ** 2 / u[:, :, 0] + p\n",
        "        g[:, :, 3] = (u[:, :, 3] + p) * u[:, :, 2] / u[:, :, 0]\n",
        "\n",
        "        return g\n",
        "\n",
        "    def spectral_radius_x(self, u):\n",
        "\n",
        "        j0 = utils.j0\n",
        "\n",
        "        rho = u[j0, j0, 0]\n",
        "        vx = u[j0, j0, 1] / rho\n",
        "        vy = u[j0, j0, 2] / rho\n",
        "        p = (self.gamma - 1.0) * (u[j0, j0, 3] - 0.5 * rho * (vx ** 2 + vy ** 2))\n",
        "        c = np.sqrt(self.gamma * p / rho)\n",
        "        return np.abs(vx) + c\n",
        "\n",
        "    def spectral_radius_y(self, u):\n",
        "\n",
        "        j0 = utils.j0\n",
        "\n",
        "        rho = u[j0, j0, 0]\n",
        "        vx = u[j0, j0, 1] / rho\n",
        "        vy = u[j0, j0, 2] / rho\n",
        "        p = (self.gamma - 1.0) * (u[j0, j0, 3] - 0.5 * rho * (vx ** 2 + vy ** 2))\n",
        "        c = np.sqrt(self.gamma * p / rho)\n",
        "        return np.abs(vy) + c"
      ]
    },
    {
      "cell_type": "markdown",
      "metadata": {
        "colab_type": "text",
        "id": "-vgW_b19Vxz9"
      },
      "source": [
        "### Solution"
      ]
    },
    {
      "cell_type": "code",
      "execution_count": 4,
      "metadata": {
        "colab": {},
        "colab_type": "code",
        "id": "_p08YVHMVLGI"
      },
      "outputs": [],
      "source": [
        "eqn = Euler2d(pars)\n",
        "soln = Solver2d(eqn)\n",
        "soln.solve()"
      ]
    },
    {
      "cell_type": "markdown",
      "metadata": {
        "colab_type": "text",
        "id": "hX1kwxVHV2UI"
      },
      "source": [
        "### Animation"
      ]
    },
    {
      "cell_type": "code",
      "execution_count": 5,
      "metadata": {
        "colab": {
          "base_uri": "https://localhost:8080/",
          "height": 310
        },
        "colab_type": "code",
        "id": "czhu91jIVLGQ",
        "outputId": "64168106-cb5b-4803-b18c-1cab2fcf918d"
      },
      "outputs": [
        {
          "data": {
            "image/png": "[encoded data removed]",
            "text/plain": [
              "<Figure size 432x288 with 1 Axes>"
            ]
          },
          "metadata": {
            "needs_background": "light"
          },
          "output_type": "display_data"
        }
      ],
      "source": [
        "# Animation\n",
        "fig = plt.figure()\n",
        "ax = plt.axes(xlim=(soln.x_init,soln.x_final), ylim=(soln.y_init, soln.y_final))\n",
        "\n",
        "ax.contour(soln.x[1:-1], soln.y[1:-1], soln.u_n[0,1:-1,1:-1,0])\n",
        "plt.show()\n",
        "\n",
        "# def animate(i):\n",
        "#     ax.collections = []\n",
        "#     ax.contour(soln.x[1:-1], soln.y[1:-1], soln.u_n[i,1:-1,1:-1,0])\n",
        "    \n",
        "# plt.close()\n",
        "# anim = animation.FuncAnimation(fig, animate, frames=soln.Nt, interval=100, blit=False);"
      ]
    },
    {
      "cell_type": "code",
      "execution_count": 7,
      "metadata": {
        "colab": {},
        "colab_type": "code",
        "id": "gLedu7rrVLGa"
      },
      "outputs": [
        {
          "data": {
            "image/png": "[encoded data removed]",
            "text/plain": [
              "<Figure size 432x288 with 1 Axes>"
            ]
          },
          "metadata": {
            "needs_background": "light"
          },
          "output_type": "display_data"
        }
      ],
      "source": [
        "fig = plt.figure()\n",
        "ax = plt.axes(xlim=(soln.x_init,soln.x_final), ylim=(soln.y_init, soln.y_final))\n",
        "\n",
        "ax.contour(soln.x[1:-1], soln.y[1:-1], soln.u_n[-1,1:-1,1:-1,-1])\n",
        "plt.show()"
      ]
    },
    {
      "cell_type": "code",
      "execution_count": null,
      "metadata": {},
      "outputs": [],
      "source": []
    }
  ],
  "metadata": {
    "colab": {
      "collapsed_sections": [
        "8jIVJ12U-P6m"
      ],
      "include_colab_link": true,
      "name": "Euler_2d.ipynb",
      "provenance": []
    },
    "kernelspec": {
      "display_name": "Python 3",
      "language": "python",
      "name": "python3"
    },
    "language_info": {
      "codemirror_mode": {
        "name": "ipython",
        "version": 3
      },
      "file_extension": ".py",
      "mimetype": "text/x-python",
      "name": "python",
      "nbconvert_exporter": "python",
      "pygments_lexer": "ipython3",
      "version": "3.9.5"
    }
  },
  "nbformat": 4,
  "nbformat_minor": 0
}
